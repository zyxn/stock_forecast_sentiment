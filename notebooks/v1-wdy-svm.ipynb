{
 "cells": [
  {
   "cell_type": "code",
   "execution_count": 1,
   "metadata": {},
   "outputs": [],
   "source": [
    "import pandas as pd"
   ]
  },
  {
   "cell_type": "code",
   "execution_count": 2,
   "metadata": {},
   "outputs": [
    {
     "data": {
      "text/html": [
       "<div>\n",
       "<style scoped>\n",
       "    .dataframe tbody tr th:only-of-type {\n",
       "        vertical-align: middle;\n",
       "    }\n",
       "\n",
       "    .dataframe tbody tr th {\n",
       "        vertical-align: top;\n",
       "    }\n",
       "\n",
       "    .dataframe thead th {\n",
       "        text-align: right;\n",
       "    }\n",
       "</style>\n",
       "<table border=\"1\" class=\"dataframe\">\n",
       "  <thead>\n",
       "    <tr style=\"text-align: right;\">\n",
       "      <th></th>\n",
       "      <th>Date</th>\n",
       "      <th>Open</th>\n",
       "      <th>High</th>\n",
       "      <th>Low</th>\n",
       "      <th>Close</th>\n",
       "      <th>Adj Close</th>\n",
       "      <th>Volume</th>\n",
       "    </tr>\n",
       "  </thead>\n",
       "  <tbody>\n",
       "    <tr>\n",
       "      <th>0</th>\n",
       "      <td>2022-12-14</td>\n",
       "      <td>6810.355957</td>\n",
       "      <td>6854.098145</td>\n",
       "      <td>6774.131836</td>\n",
       "      <td>6801.749023</td>\n",
       "      <td>6801.749023</td>\n",
       "      <td>215430000</td>\n",
       "    </tr>\n",
       "    <tr>\n",
       "      <th>1</th>\n",
       "      <td>2022-12-15</td>\n",
       "      <td>6801.789063</td>\n",
       "      <td>6801.837891</td>\n",
       "      <td>6740.955078</td>\n",
       "      <td>6751.859863</td>\n",
       "      <td>6751.859863</td>\n",
       "      <td>145093400</td>\n",
       "    </tr>\n",
       "    <tr>\n",
       "      <th>2</th>\n",
       "      <td>2022-12-16</td>\n",
       "      <td>6751.859863</td>\n",
       "      <td>6812.192871</td>\n",
       "      <td>6693.765137</td>\n",
       "      <td>6812.192871</td>\n",
       "      <td>6812.192871</td>\n",
       "      <td>156126900</td>\n",
       "    </tr>\n",
       "  </tbody>\n",
       "</table>\n",
       "</div>"
      ],
      "text/plain": [
       "         Date         Open         High          Low        Close  \\\n",
       "0  2022-12-14  6810.355957  6854.098145  6774.131836  6801.749023   \n",
       "1  2022-12-15  6801.789063  6801.837891  6740.955078  6751.859863   \n",
       "2  2022-12-16  6751.859863  6812.192871  6693.765137  6812.192871   \n",
       "\n",
       "     Adj Close     Volume  \n",
       "0  6801.749023  215430000  \n",
       "1  6751.859863  145093400  \n",
       "2  6812.192871  156126900  "
      ]
     },
     "execution_count": 2,
     "metadata": {},
     "output_type": "execute_result"
    }
   ],
   "source": [
    "data = pd.read_csv(\"../data/external/ihsg 14-12-22 till 22-04-24.csv\")\n",
    "data.head(3)"
   ]
  }
 ],
 "metadata": {
  "kernelspec": {
   "display_name": "base",
   "language": "python",
   "name": "python3"
  },
  "language_info": {
   "codemirror_mode": {
    "name": "ipython",
    "version": 3
   },
   "file_extension": ".py",
   "mimetype": "text/x-python",
   "name": "python",
   "nbconvert_exporter": "python",
   "pygments_lexer": "ipython3",
   "version": "3.10.9"
  }
 },
 "nbformat": 4,
 "nbformat_minor": 2
}
