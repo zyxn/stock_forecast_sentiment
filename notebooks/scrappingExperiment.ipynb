{
 "cells": [
  {
   "cell_type": "code",
   "execution_count": 12,
   "metadata": {},
   "outputs": [
    {
     "name": "stdout",
     "output_type": "stream",
     "text": [
      "Collecting httpx\n",
      "  Downloading httpx-0.27.0-py3-none-any.whl.metadata (7.2 kB)\n",
      "Requirement already satisfied: anyio in c:\\users\\zado\\anaconda3\\envs\\ds\\lib\\site-packages (from httpx) (3.7.1)\n",
      "Requirement already satisfied: certifi in c:\\users\\zado\\appdata\\roaming\\python\\python39\\site-packages (from httpx) (2020.12.5)\n",
      "Collecting httpcore==1.* (from httpx)\n",
      "  Downloading httpcore-1.0.4-py3-none-any.whl.metadata (20 kB)\n",
      "Requirement already satisfied: idna in c:\\users\\zado\\appdata\\roaming\\python\\python39\\site-packages (from httpx) (2.10)\n",
      "Requirement already satisfied: sniffio in c:\\users\\zado\\appdata\\roaming\\python\\python39\\site-packages (from httpx) (1.2.0)\n",
      "Requirement already satisfied: h11<0.15,>=0.13 in c:\\users\\zado\\anaconda3\\envs\\ds\\lib\\site-packages (from httpcore==1.*->httpx) (0.14.0)\n",
      "Requirement already satisfied: exceptiongroup in c:\\users\\zado\\anaconda3\\envs\\ds\\lib\\site-packages (from anyio->httpx) (1.1.3)\n",
      "Downloading httpx-0.27.0-py3-none-any.whl (75 kB)\n",
      "   ---------------------------------------- 0.0/75.6 kB ? eta -:--:--\n",
      "   ----- ---------------------------------- 10.2/75.6 kB ? eta -:--:--\n",
      "   ---------------- ----------------------- 30.7/75.6 kB 330.3 kB/s eta 0:00:01\n",
      "   ---------------- ----------------------- 30.7/75.6 kB 330.3 kB/s eta 0:00:01\n",
      "   --------------------- ------------------ 41.0/75.6 kB 196.9 kB/s eta 0:00:01\n",
      "   ------------------------------------- -- 71.7/75.6 kB 302.7 kB/s eta 0:00:01\n",
      "   ---------------------------------------- 75.6/75.6 kB 298.4 kB/s eta 0:00:00\n",
      "Downloading httpcore-1.0.4-py3-none-any.whl (77 kB)\n",
      "   ---------------------------------------- 0.0/77.8 kB ? eta -:--:--\n",
      "   ------------------------------- -------- 61.4/77.8 kB 1.7 MB/s eta 0:00:01\n",
      "   ---------------------------------------- 77.8/77.8 kB 1.4 MB/s eta 0:00:00\n",
      "Installing collected packages: httpcore, httpx\n",
      "Successfully installed httpcore-1.0.4 httpx-0.27.0\n"
     ]
    }
   ],
   "source": [
    "!pip install httpx"
   ]
  },
  {
   "cell_type": "code",
   "execution_count": 13,
   "metadata": {},
   "outputs": [],
   "source": [
    "import requests\n",
    "from bs4 import BeautifulSoup\n",
    "import pandas as pd\n",
    "import httpx\n",
    "from tqdm import tqdm"
   ]
  },
  {
   "cell_type": "code",
   "execution_count": 54,
   "metadata": {},
   "outputs": [],
   "source": [
    "url = \"https://www.cnbcindonesia.com/tag/ihsg/1?kanal=&tipe=\""
   ]
  },
  {
   "cell_type": "code",
   "execution_count": 4,
   "metadata": {},
   "outputs": [],
   "source": [
    "response = requests.get(url)\n",
    "\n",
    "\n",
    "# Parse the HTML content of the page\n",
    "soup = BeautifulSoup(response.text, 'html.parser')\n",
    "\n"
   ]
  },
  {
   "cell_type": "code",
   "execution_count": 29,
   "metadata": {},
   "outputs": [
    {
     "name": "stdout",
     "output_type": "stream",
     "text": [
      "Video: Inflasi RI Melesat, IHSG Ikut Tersengat https://www.cnbcindonesia.com/market/20240301173311-19-519013/video-inflasi-ri-melesat-ihsg-ikut-tersengat\n",
      "\n",
      "\n",
      "\n",
      "\n"
     ]
    }
   ],
   "source": [
    "article_elements = soup.find_all('article')\n",
    "\n",
    "link = article_elements[0].find(\"a\")[\"href\"]\n",
    "judul = article_elements[0].find(\"h2\").get_text()\n",
    "\n",
    "\n",
    "print(judul, link)\n",
    "\n",
    "print(\"\\n\\n\\n\")\n",
    "\n"
   ]
  },
  {
   "cell_type": "code",
   "execution_count": 51,
   "metadata": {},
   "outputs": [
    {
     "name": "stdout",
     "output_type": "stream",
     "text": [
      "01 March 2024 06:01\n",
      "Jakarta, CNBC Indonesia - Pasar keuangan Tanah Air kembali berjatuhan pada perdagangan Kamis (29/2/2024) kemarin, karena investor masih cenderung wait and see menanti rilis data inflasi Indonesia serta data inflasi pengeluaran konsumen Amerika Serikat (AS).Pasar keuangan Indonesia diharapkan kompak menguat setelah data inflasi pengeluaran konsumen AS sesuai ekspektasi pasar. Selengkapnya mengenai sentimen pasar hari ini bisa dibaca pada halaman 3 artikel ini.IHSG pada perdagangan kemarin ditutup melemah 0,17% ke posisi 7.316,11. IHSG masih bertahan di level psikologis 7.300.Nilai transaksi IHSG pada kemarin mencapai sekitar Rp 16 triliun, dengan melibatkan 29 miliaran saham yang berpindah tangan sebanyak 1,5 juta kali. Sebanyak 239 saham naik, 292 saham terkoreksi dan 232 saham sideways.Investor asing mencatatkan kembali penjualan bersih (net sell) mencapai Rp 640,29 miliar di seluruh pasar, dengan rincian sebesar Rp 638,77 miliar di pasar reguler dan sebesar Rp 1,53 miliar di pasar tunai dan negosiasi.Secara sektoral, sektor teknologi menjadi penekan terbesar IHSG pada akhir perdagangan kemarin, yakni sebesar 1,9%.Sedangkan di bursa Asia-Pasifik, cenderung bervariasi kemarin. Di deretan bursa saham yang terkoreksi, indeks SET Thailand menjadi yang paling parah koreksinya yakni mencapai 0,82%.Sementara dari bursa yang menguat, Shanghai Composite China menjadi yang paling kencang penguatannya kemarin yakni mencapai 1,94%.Berikut pergerakan IHSG dan bursa Asia-Pasifik pada perdagangan Kamis kemarin.Sedangkan untuk mata uang rupiah pada perdagangan kemarin kembali ditutup melemah di hadapan dolar Amerika Serikat (AS).Berdasarkan data Refinitiv, rupiah mengakhiri perdagangan kemarin di posisi Rp 15.710/US$ di pasar spot, melemah 0,19% di hadapan dolar AS.Di Asia-Pasifik, secara mayoritas menguat, kecuali won Korea Selatan dan termasuk rupiah. Sedangkan mata uang ringgit Malaysia menjadi yang paling kencang penguatannya kemarin yakni sebesar 0,52%.Berikut pergerakan rupiah dan mata uang Asia pada perdagangan Kamis kemarin.Adapun di pasar surat berharga negara (SBN), pada perdagangan kemarin harganya kembali melemah, terlihat dari imbal hasil (yield) yang kembali naik.Melansir data dari Refinitiv, imbal hasil (yield) SBN tenor 10 tahun yang merupakan SBN acuan negara terpantau naik 0,9 basis poin (bp) menjadi 6,606%.Yield berlawanan arah dari harga, sehingga naiknya yield menunjukkan harga obligasi yang sedang melemah, demikian juga sebaliknya. Satuan penghitungan basis poin setara dengan 1/100 dari 1%. Ketika yield naik, maka tandanya investor sedang melepas SBN.Beralih ke Amerika Serikat (AS), bursa Wall Street kompak ditutup menguat pada perdagangan Kamis kemarin atau Jumat dini hari waktu Indonesia setelah dirilisnya data inflasi belanja personal AS periode Januari 2024 dan sesuai dengan ekspektasi pasar.Indeks Dow Jones menguat 0,12% atau 47,37 poin atau 38.996,39. Indeks S&P menanjak 0,52% atau 26,51 poin atau 5.096,27. Indeks Nasdaq naik 0,9% atau 144,18 poin atay 16.091,92. Posisi penutupan Nasdaq kemarin adalah rekor baru dan melewati posisi sebelumnya pada November 2021.Dengan penguatan kemarin, indeks Dow Jones dan S&P juga kemungkinan besar akan mengakhiri Februari dengan mencatat rekor terbaik dua bulan pertama sejak 2019.Wall Street menguat setelah dirilisnya data inflasi belanja personal (personal consumption expenditure/PCE) AS periode Januari 2024 yang sesuai dengan prediksi pasar sebelumnya.Biro Analisis Ekonomi Departemen Perdagangan AS melaporkan inflasi PCE pada Januari lalu naik tercatat 2,4% secara tahunan (year-on-year/yoy) dan mencapai 0,3% secara bulanan (month-to-month/mtm). Angka bulanan lebih tinggi dari periode Desember 2023 yang tumbuh 0,1%, namun secara tahunan lebih rendah dari Desember 2023 yang tumbuh 2,6%.Angka ini juga sudah sesuai dengan ekspektasi pasar, yang memperkirakan inflasi PCE tumbuh 0,3% (mtm) dan 2,4% (yoy).Sementara untuk inflasi PCE inti, yang tidak termasuk harga makanan dan energi yang bergejolak, juga kembali naik menjadi 0,4% dan tentunya sudah sesuai dengan ekspektasi pasar.Data inflasi PCE yang sudah sesuai prediksi membuat pasar dapat sedikit bernafas lega, meski dinilai masih cukup panas.\"Tanpa kejutan hawkish di sini, yang sebenarnya tidak terjadi, lemah atau setidaknya sejalan, maka tidak ada alasan nyata bagi pasar untuk mengharapkan The Fed menjadi lebih hawkish daripada yang telah mereka uraikan,\" kata Ross Mayfield. analis strategi investasi di Baird, dilansir dari Reuters.Selain inflasi PCE, Wall Street bergairah karena didukung oleh saham-saham teknologi yang terkait dengan kecerdasan buatan (AI), seperti yang terjadi pada pekan lalu.Pembuat chip kelas berat Nvidia melonjak 2,08% dan menjadi emiten pendorong terbesar S&P 500 dan Nasdaq, sementara saingannya yang lebih kecil Advanced Micro Devices (AMD) melejit 9,06%. Perusahaan-perusahaan tersebut dan perusahaan teknologi lainnya menjadi pusat perhatian dalam rally Wall Street dalam beberapa bulan terakhir, didorong oleh optimisme terhadap prospek pertumbuhan terkait AI.Pasar keuangan RI sudah mulai membaik kemarin. Namun pada hari ini, pergerakannya masih cenderung mendatar terutama IHSG, karena investor masih wait and see menanti rilis data inflasi Indonesia pada Jumat dan beberapa rilis data ekonomi di global, terutama data inflasi PCE.Melandainya inflasi PCE Amerika Serikat menjadi kabar baik bagi pelaku pasar keuangan karena meningkatkan optimisme jika The Fed akan segera memangkas suku bunga.Terlepas dari hal tersebut, hasil real count Komisi Pemilihan Umum (KPU) dalam Pemilihan Umum (Pemilu) 2024 masih bersifat sementara, alias perhitungan masih berlangsung. Apalagi, proses perhitungan suara masih dilakukan oleh KPU hingga 20 Maret mendatang.Hingga Jumat pagi (1/3/2024) pukul 04.00 WIB, menunjukkan pasangan calon (paslon) 2 sudah jauh meninggalkan pasangan Anies Baswedan-Muhaimin Iskandar dan Ganjar Pranowo-Mahfud MD.Data yang terbaru masih menunjukkan hasil perhitungan suara sudah masuk 77,90% data Tempat Pemungutan Suara (TPS) yang telah tertampung dan Prabowo Subianto-Gibran Rakabuming Raka kokoh di posisi pertama dengan perolehan suara 58,83%.Inflasi Indonesia Periode FebruariInflasi Indonesia diperkirakan menanjak pada Februari 2024. Inflasi yang merangkak naik ini dipicu lonjakan harga sejumlah bahan pokok. Badan Pusat Statistik (BPS) akan mengumumkan data inflasi Februari 2024 pada hari ini, Jumat (1/3/2024).Konsensus pasar yang dihimpun CNBC Indonesia dari 11 institusi memperkirakan inflasi Februari 2024 akan mencapai 0,25% dibandingkan bulan sebelumnya (month to month/mtm). Hasil polling juga memperkirakan inflasi (year on year/yoy) akan berada di angka 2,63% pada Februari. Inflasi inti (yoy) diperkirakan mencapai 1,7% (yoy).Sebagai catatan, inflasi pada Januari 2024 tercatat 2,57% (yoy) dan 0,04% (mtm) sementara inflasi inti mencapai 1,68% (yoy).Proyeksi kenaikan inflasi ini pada dasarnya masih cukup terkendali dan masih dalam rentang target Bank Indonesia (BI) untuk inflasi 2024 yakni 1,5-3,5%. Data BPS menunjukkan inflasi (mtm) pada Februari biasanya melandai pada Februari karena sudah melambung pada Desember dan Januari. Dalam lima tahun terakhir, inflasi (mtm) pada Februari tercatat 0,09%. Jika inflasi Februari ini menembus 0,25% maka itu menjadi anomali.Ekonom Bank Maybank Indonesia, Juniman, menjelaskan komoditas utama penyumbang inflasi adalah harga beras, cabai, gula pasir, minyak goreng, daging sapi, daging ayam, telur dadar, bawang putih, kacang kedelai, rokok filter, dan rokok kretek.Senada dengan Juniman, Bank Mandiri juga mengatakan peningkatan ini terutama disebabkan oleh kenaikan harga bahan pangan, termasuk beras dan cabai merah.Mengacu pada Pusat Informasi Harga Pangan Strategis (PIHPS) BI, harga beras terus melonjak. Pada Februari, rata-rata harga beras naik 4,05% menjadi Rp 15.390/kg. .Kenaikan harga beras ini membuat pemerintah waspada sebab dapat memengaruhi inflasi bulanan. Beras merupakan bahan pangan yang memiliki bobot terbesar terhadap inflasi pangan yakni sekitar 3,43%.Pemerintah mengatakan bahwa salah satu biang kerok tingginya harga beras yakni peristiwa El Nino. Alhasil gangguan produksi beras lokal pun terjadi di tengah gangguan supply beras di dunia.Lonjakan harga beras dan sejumlah pangan yang menanjak pada Februari perlu diwaspadai. Pasalnya, Indonesia sudah memasuki bulan Ramadan pada 11 Maret mendatang.Secara historis, inflasi Indonesia akan mencapai puncak pada Ramadhan dan menjelang Idul Fitri. Bila harga pangan belum juga turun maka inflasi Maret bisa semakin melonjak.Menteri Keuangan Sri Mulyani juga mengungkapkan kenaikan harga bahan pangan lainnya menjadi perhatian pemerintah, yakni bawang putih, cabai merah, daging ayam dan telur. Kenaikan ini terjadi jelang Ramadan dan Idul Fitri, maka Sri Mulyani berharap volume makanan harus segera stabil agar inflasi secara keseluruhan bisa terjaga rendah.PMI manufakturSelain inflasi, data aktivitas manufaktur, terutama Indonesia yang tergambarkan pada Purchasing Manager's Index (PMI) versi S&P Global pada Februari lalu juga akan dirilis pada hari ini. PMI Manufaktur S&P Global Indonesia naik menjadi 52,9 pada Januari 2024 dari 52,2 pada bulan sebelumnya. Pertumbuhan tersebut merupakan pertumbuhan aktivitas pabrik selama 29 bulan berturut-turut dan laju terkuat sejak Agustus lalu, karena pertumbuhan pesanan baru yang lebih cepat, ditambah dengan kondisi pasokan yang lebih baik, menyebabkan produksi tumbuh pada laju tercepat dalam dua tahun.Tak hanya Indonesia, beberapa negara juga akan merilis data PMI manufaktur terbarunya pada hari ini. Adapun negara-negara tersebut yakni Australia, Jepang, China, dan Amerika Serikat.Di China, data PMI manufaktur versi resmi (NBS) periode Februari 2024 juga akan dirilis hari ini. Diketahui, PMI Manufaktur NBS resmi di China berada di 49,2 pada Januari 2024, sesuai dengan perkiraan pasar dan sedikit lebih tinggi dari level terendah 6 bulan di Desember di 49,0.Meskipun demikian, angka ini adalah kontraksi aktivitas pabrik selama 4 bulan berturut-turut, karena Beijing berjuang untuk memacu pemulihan ekonomi di tengah tekanan deflasi, permintaan lemah, dan terus menurunnya sektor properti.Inflasi PCE Amerika Serikat dan Klaim PengangguranAS melaporkan inflasiPCEpada Januari 2024 tercatat 2,4% secara tahunan (yoy) dan mencapai 0,3% secara bulanan (mtm). Angka bulanan lebih tinggi dari periode Desember 2023 yang tumbuh 0,1%, namun secara tahunan lebih rendah dari Desember 2023 yang tumbuh 2,6%.Angka PCE sejalan dengan ekspektasi pasar, yang memperkirakan inflasiPCEtumbuh 0,3% (mtm) dan 2,4% (yoy).InflasiPCEinti,yang mengeluarkan harga makanan dan energi yang bergejolak, tercatat 0,4% (mtm) dan 2,8% (yoy) yang tentunya sudah sesuai dengan ekspektasi pasar.Data inflasiPCEyang sejalan ekspektasi pasar ini meningkatkan optimisme pasar jika The Fed bisa memangkas suku bunga secepatnya.Para ekonom berpendapat bahwa model yang digunakan pemerintah untuk menghilangkan fluktuasi musiman dari data mungkin tidak sepenuhnya memperhitungkan kenaikan harga di awal tahun. Kebanyakan orang juga tidak memperkirakan kenaikan harga akan terulang kembali di Februari nantinya.\"Akan lebih bijaksana untuk menahan diri dalam memberikan penilaian yang kuat sampai data periode Februari keluar. Jika percepatan data Januari hanya terjadi sekali saja dan mungkin disebabkan oleh kegagalan faktor penyesuaian musiman untuk memperhitungkan sejauh mana sebenarnya perusahaan menaikkan harga pada harga yang sama pada awal tahun ini, atau apakah ini merupakan awal dari sesuatu yang lebih mengkhawatirkan bagi The Fed,\" ujar Satyam Panday, chief U.S. economistdi S&P Global Ratings.Hal ini membuat pelaku pasar telah memundurkan ekspektasi penurunan suku bunga bank sentral AS (Federal Reserve/The Fed), dari sebelumnya pada Mei 2024 menjadi ke Juni 2024.Para pejabat The Fed juga telah mengindikasikan bahwa mereka tidak akan terburu-buru untuk mulai menurunkan biaya pinjaman. Sejak Maret 2022, The Fed telah menaikkan suku bunga kebijakannya sebesar 525 basis poin (bp) ke kisaran saat ini di 5,25%-5,50%.Peningkatan inflasi bulan lalu terjadi meskipun belanja konsumen melambat. Belanja konsumen, yang menyumbang lebih dari dua pertiga aktivitas ekonomi AS, naik 0,2% setelah meningkat 0,7% pada Desember 2023. Pengeluaran tetap didukung oleh pasar tenaga kerja yang masih ketat, yang menyebabkan kenaikan upah tetap tinggi.Laporan terpisah dari Departemen Tenaga Kerja pada hari ini menunjukkan klaim awal tunjangan pengangguran negara naik 13,000 menjadi 215,000 yang disesuaikan secara musiman untuk pekan yang berakhir 24 Februari. Para ekonom memperkirakan 210,000 klaim untuk minggu terakhir.MK Resmi Hapus Ambang Batas Parlemen 4%Mahkamah Konstitusi (MK) menghapus ketentuan ambang batas parlemen atau parliamentary threshold sebesar 4% suara sah nasional karena dinilai tidak sejalan dengan prinsip kedaulatan rakyat, keadilan pemilu, dan melanggar kepastian hukum yang dijamin oleh konstitusi.Namun, penghapusan ambang batas parlemen 4% itu belum berlaku untuk Pemilu 2024, melainkan pada Pemilu 2029.Dalam sidang uji materi Undang-Undang Nomor 7 Tahun 2017 tentang Pemilu di Gedung MK, Kamis (29/2/2024), MK menyatakan, ketentuan Pasal 414 Ayat (1) UU Pemilu yang mengatur ambang batas parlemen 4% masih konstitusional digunakan pada Pemilu 2024. Namun, ambang batas parlemen sebesar 4% itu tidak bisa lagi diberlakukan di Pemilu 2029.MK memerintahkan pembentuk undang-undang untuk mengubah ketentuan ambang batas parlemen tersebut melalui revisi UU Pemilu.\"Sebagai konsekuensi yuridisnya, norma Pasal 414 Ayat (1) UU No 7/2017 haruslah dinyatakan konstitusional bersyarat (conditionally constitutional) sepanjang masih tetap diberlakukan untuk hasil Pemilu DPR 2024 dan tidak diberlakukan untuk hasil Pemilu DPR 2029 dan pemilu berikutnya kecuali setelah dilakukan perubahan terhadap norma ambang batas dan besaran angka atau persentase ambang batas parlemen,\" kata Wakil Ketua MK Saldi Isra saat membacakan pertimbangan putusan perkara 116/PUU-XXI/2023, di Gedung MK, Jakarta. Sidang dipimpin oleh Ketua MK Suhartoyo.MK mengabulkan sebagian permohonan yang diajukan oleh Perkumpulan untuk Pemilu dan Demokrasi (Perludem) yang menyoal tentang penerapan ambang batas parlemen sebesar 4% suara sah nasional sebagai dasar untuk menentukan perolehan kursi di parlemen.Perludem menilai ketentuan ambang batas tersebut telah menyebabkan hilangnya suara rakyat atau besarnya suara pemilih yang tidak terkonversi menjadi kursi di DPR.Dalam pertimbangannya, Saldi Isra mengungkapkan, ambang batas parlemen perlu segera diubah dengan memperhatikan secara sungguh-sungguh sejumlah hal, seperti didesain untuk digunakan secara berkelanjutan.Perubahan norma ambang batas parlemen, termasuk besaran angka atau persentase ambang batas, juga harus diputuskan dengan tetap menjaga proporsionalitas sistem pemilu proporsional. Hal Ini penting untuk mencegah besarnya jumlah suara yang tidak dapat dikonversi menjadi kursi DPR.Berikut sejumlah agenda dan rilis data yang terjadwal untuk hari ini: Berikut sejumlah agenda emiten di dalam negeri pada hari ini: Berikut sejumlah indikator perekonomian nasional:CNBC INDONESIA RESEARCH[email protected]\n"
     ]
    }
   ],
   "source": [
    "link2 = \"https://www.cnbcindonesia.com/research/20240301011409-128-518759/amerika-beri-kabar-baik-semoga-ihsg-rupiah-bisa-happy-weekend?page=all\"\n",
    "\n",
    "response2 = requests.get(link2)\n",
    "\n",
    "soup_isi = BeautifulSoup(response2.text, 'html.parser')\n",
    "detail_text = soup_isi.find('div',class_ = \"detail_text\")\n",
    "isi = \"\".join([i.get_text() for i in detail_text.find_all('p')])\n",
    "\n",
    "tanggal = soup_isi.find('div',class_ = \"date\").get_text()\n",
    "\n",
    "\n",
    "print(tanggal)\n",
    "print(isi)\n"
   ]
  },
  {
   "cell_type": "markdown",
   "metadata": {},
   "source": [
    "# FULL Scrap"
   ]
  },
  {
   "cell_type": "code",
   "execution_count": 16,
   "metadata": {},
   "outputs": [
    {
     "ename": "RuntimeError",
     "evalue": "asyncio.run() cannot be called from a running event loop",
     "output_type": "error",
     "traceback": [
      "\u001b[1;31m---------------------------------------------------------------------------\u001b[0m",
      "\u001b[1;31mRuntimeError\u001b[0m                              Traceback (most recent call last)",
      "\u001b[1;32m~\\AppData\\Local\\Temp\\ipykernel_37696\\1163385890.py\u001b[0m in \u001b[0;36m<module>\u001b[1;34m\u001b[0m\n\u001b[0;32m     49\u001b[0m \u001b[1;33m\u001b[0m\u001b[0m\n\u001b[0;32m     50\u001b[0m \u001b[1;32mif\u001b[0m \u001b[0m__name__\u001b[0m \u001b[1;33m==\u001b[0m \u001b[1;34m\"__main__\"\u001b[0m\u001b[1;33m:\u001b[0m\u001b[1;33m\u001b[0m\u001b[1;33m\u001b[0m\u001b[0m\n\u001b[1;32m---> 51\u001b[1;33m     \u001b[0masyncio\u001b[0m\u001b[1;33m.\u001b[0m\u001b[0mrun\u001b[0m\u001b[1;33m(\u001b[0m\u001b[0mmain\u001b[0m\u001b[1;33m(\u001b[0m\u001b[1;33m)\u001b[0m\u001b[1;33m)\u001b[0m\u001b[1;33m\u001b[0m\u001b[1;33m\u001b[0m\u001b[0m\n\u001b[0m",
      "\u001b[1;32mc:\\Users\\ZADO\\anaconda3\\envs\\ds\\lib\\asyncio\\runners.py\u001b[0m in \u001b[0;36mrun\u001b[1;34m(main, debug)\u001b[0m\n\u001b[0;32m     31\u001b[0m     \"\"\"\n\u001b[0;32m     32\u001b[0m     \u001b[1;32mif\u001b[0m \u001b[0mevents\u001b[0m\u001b[1;33m.\u001b[0m\u001b[0m_get_running_loop\u001b[0m\u001b[1;33m(\u001b[0m\u001b[1;33m)\u001b[0m \u001b[1;32mis\u001b[0m \u001b[1;32mnot\u001b[0m \u001b[1;32mNone\u001b[0m\u001b[1;33m:\u001b[0m\u001b[1;33m\u001b[0m\u001b[1;33m\u001b[0m\u001b[0m\n\u001b[1;32m---> 33\u001b[1;33m         raise RuntimeError(\n\u001b[0m\u001b[0;32m     34\u001b[0m             \"asyncio.run() cannot be called from a running event loop\")\n\u001b[0;32m     35\u001b[0m \u001b[1;33m\u001b[0m\u001b[0m\n",
      "\u001b[1;31mRuntimeError\u001b[0m: asyncio.run() cannot be called from a running event loop"
     ]
    }
   ],
   "source": [
    "data = {'Tanggal': [], 'Judul': [], 'Link': [], 'Isi': []}\n",
    "\n",
    "for i in tqdm(range(1, 1001), desc=\"Scraping Pages\"):\n",
    "    home = f\"https://www.cnbcindonesia.com/tag/ihsg/{i}?kanal=&tipe=\"\n",
    "    async with httpx.AsyncClient() as client:\n",
    "        response = await client.get(home)\n",
    "\n",
    "    soup = BeautifulSoup(response.text, 'html.parser')\n",
    "\n",
    "    article_elements = soup.find_all('article')\n",
    "\n",
    "    for article in tqdm(article_elements, desc=f\"Processing Page {i}\"):\n",
    "        link = article.find(\"a\")[\"href\"]\n",
    "        judul = article.find(\"h2\").get_text()\n",
    "        data['Link'].append(link)\n",
    "        data['Judul'].append(judul)\n",
    "        link_full = link + \"?page=all\"\n",
    "\n",
    "        # async with httpx.AsyncClient() as client:\n",
    "        #     response2 = await client.get(link_full)\n",
    "\n",
    "        # soup2 = BeautifulSoup(response2.text, 'html.parser')\n",
    "        # detail_text = soup2.find('div', class_=\"detail_text\")\n",
    "        # isi = \"\".join([i.get_text() for i in detail_text.find_all('p')])\n",
    "        # tanggal = soup2.find('div', class_=\"date\").get_text()\n",
    "        # data['Isi'].append(isi)\n",
    "        # data['Tanggal'].append(tanggal)\n",
    "\n",
    "df = pd.DataFrame(data)\n",
    "df"
   ]
  },
  {
   "cell_type": "code",
   "execution_count": null,
   "metadata": {},
   "outputs": [],
   "source": [
    "df.to_csv(\"Data Berita IHSG 02-03-2024.csv\",index=False)"
   ]
  },
  {
   "cell_type": "code",
   "execution_count": null,
   "metadata": {},
   "outputs": [],
   "source": []
  }
 ],
 "metadata": {
  "kernelspec": {
   "display_name": "ds",
   "language": "python",
   "name": "python3"
  },
  "language_info": {
   "codemirror_mode": {
    "name": "ipython",
    "version": 3
   },
   "file_extension": ".py",
   "mimetype": "text/x-python",
   "name": "python",
   "nbconvert_exporter": "python",
   "pygments_lexer": "ipython3",
   "version": "3.9.18"
  }
 },
 "nbformat": 4,
 "nbformat_minor": 2
}
