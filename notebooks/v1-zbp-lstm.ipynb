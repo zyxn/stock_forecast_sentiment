{
 "cells": [
  {
   "cell_type": "code",
   "execution_count": 27,
   "metadata": {},
   "outputs": [],
   "source": [
    "# Modul Dasar\n",
    "import numpy as np               # Operasi matematika dan array\n",
    "import pandas as pd              # Struktur data tabular (DataFrame)\n",
    "import matplotlib.pyplot as plt  # Visualisasi data\n",
    "import seaborn as sns            # Visualisasi data tambahan\n",
    "\n",
    "# Statistik dan Machine Learning\n",
    "from scipy import stats          # Statistik\n",
    "from sklearn import datasets     # Datasets untuk machine learning\n",
    "from sklearn.model_selection import train_test_split  # Pembagian data train-test\n",
    "from sklearn.preprocessing import StandardScaler     # Normalisasi data\n",
    "from sklearn.linear_model import LinearRegression    # Regresi linear\n",
    "from sklearn.tree import DecisionTreeClassifier      # Klasifikasi menggunakan Decision Tree\n",
    "from sklearn.cluster import KMeans                    # KMeans clustering\n",
    "\n",
    "# Evaluasi Model\n",
    "from sklearn.metrics import accuracy_score, confusion_matrix, classification_report  # Evaluasi performa model\n",
    "\n",
    "# Visualisasi Machine Learning\n",
    "from sklearn.tree import plot_tree    # Visualisasi struktur Decision Tree\n",
    "from sklearn.metrics import roc_curve, auc  # Kurva ROC dan AUC\n",
    "\n",
    "\n",
    "from sklearn.preprocessing import MinMaxScaler\n"
   ]
  },
  {
   "cell_type": "code",
   "execution_count": 28,
   "metadata": {},
   "outputs": [
    {
     "data": {
      "text/html": [
       "<div>\n",
       "<style scoped>\n",
       "    .dataframe tbody tr th:only-of-type {\n",
       "        vertical-align: middle;\n",
       "    }\n",
       "\n",
       "    .dataframe tbody tr th {\n",
       "        vertical-align: top;\n",
       "    }\n",
       "\n",
       "    .dataframe thead th {\n",
       "        text-align: right;\n",
       "    }\n",
       "</style>\n",
       "<table border=\"1\" class=\"dataframe\">\n",
       "  <thead>\n",
       "    <tr style=\"text-align: right;\">\n",
       "      <th></th>\n",
       "      <th>Date</th>\n",
       "      <th>Open</th>\n",
       "      <th>High</th>\n",
       "      <th>Low</th>\n",
       "      <th>Close</th>\n",
       "      <th>Adj Close</th>\n",
       "      <th>Volume</th>\n",
       "    </tr>\n",
       "  </thead>\n",
       "  <tbody>\n",
       "    <tr>\n",
       "      <th>0</th>\n",
       "      <td>2022-12-14</td>\n",
       "      <td>6810.355957</td>\n",
       "      <td>6854.098145</td>\n",
       "      <td>6774.131836</td>\n",
       "      <td>6801.749023</td>\n",
       "      <td>6801.749023</td>\n",
       "      <td>215430000</td>\n",
       "    </tr>\n",
       "    <tr>\n",
       "      <th>1</th>\n",
       "      <td>2022-12-15</td>\n",
       "      <td>6801.789063</td>\n",
       "      <td>6801.837891</td>\n",
       "      <td>6740.955078</td>\n",
       "      <td>6751.859863</td>\n",
       "      <td>6751.859863</td>\n",
       "      <td>145093400</td>\n",
       "    </tr>\n",
       "    <tr>\n",
       "      <th>2</th>\n",
       "      <td>2022-12-16</td>\n",
       "      <td>6751.859863</td>\n",
       "      <td>6812.192871</td>\n",
       "      <td>6693.765137</td>\n",
       "      <td>6812.192871</td>\n",
       "      <td>6812.192871</td>\n",
       "      <td>156126900</td>\n",
       "    </tr>\n",
       "  </tbody>\n",
       "</table>\n",
       "</div>"
      ],
      "text/plain": [
       "         Date         Open         High          Low        Close  \\\n",
       "0  2022-12-14  6810.355957  6854.098145  6774.131836  6801.749023   \n",
       "1  2022-12-15  6801.789063  6801.837891  6740.955078  6751.859863   \n",
       "2  2022-12-16  6751.859863  6812.192871  6693.765137  6812.192871   \n",
       "\n",
       "     Adj Close     Volume  \n",
       "0  6801.749023  215430000  \n",
       "1  6751.859863  145093400  \n",
       "2  6812.192871  156126900  "
      ]
     },
     "execution_count": 28,
     "metadata": {},
     "output_type": "execute_result"
    }
   ],
   "source": [
    "data = pd.read_csv(\"../data/external/ihsg 14-12-22 till 22-04-24.csv\")\n",
    "data.head(3)"
   ]
  },
  {
   "cell_type": "code",
   "execution_count": 29,
   "metadata": {},
   "outputs": [],
   "source": [
    "lengh_data = len(data)\n",
    "split_ratio = 0.7\n",
    "lengh_train = round(lengh_data * split_ratio)\n",
    "lengh_validation = lengh_data -lengh_train"
   ]
  },
  {
   "cell_type": "code",
   "execution_count": 30,
   "metadata": {},
   "outputs": [],
   "source": [
    "data = data.drop([\"Volume\"],axis=1)\n",
    "data['Date'] = pd.to_datetime(data['Date'])\n",
    "data = data.set_index(\"Date\")"
   ]
  },
  {
   "cell_type": "code",
   "execution_count": 31,
   "metadata": {},
   "outputs": [],
   "source": [
    "def time_series_to_supervised(data, n_in=1, n_out=1, dropnan=True, var_names=None):\n",
    "    \"\"\"\n",
    "    Mengubah data time series menjadi data supervised learning.\n",
    "\n",
    "    Argumen:\n",
    "    data: DataFrame, dataset time series yang akan diubah.\n",
    "    n_in: int, jumlah timestep mundur sebagai input (X).\n",
    "    n_out: int, jumlah timestep maju sebagai output (y).\n",
    "    dropnan: bool, apakah akan menghapus baris dengan nilai NaN.\n",
    "    var_names: list of str, nama variabel untuk setiap kolom.\n",
    "\n",
    "    Returns:\n",
    "    DataFrame yang sudah diubah menjadi format supervised learning.\n",
    "    \"\"\"\n",
    "    n_vars = 1 if type(data) is list else data.shape[1]\n",
    "    df = pd.DataFrame(data)\n",
    "    cols, names = [], []\n",
    "    \n",
    "    # Input sequence (t-n, ... t-1)\n",
    "    for i in range(n_in, 0, -1):\n",
    "        cols.append(df.shift(i))\n",
    "        if var_names is None:\n",
    "            names += [('var%d(t-%d)' % (j+1, i)) for j in range(n_vars)]\n",
    "        else:\n",
    "            names += [(var_names[j] + '(t-%d)' % i) for j in range(n_vars)]\n",
    "    \n",
    "    # Output sequence (t, t+1, ... t+n)\n",
    "    for i in range(0, n_out):\n",
    "        cols.append(df.shift(-i))\n",
    "        if i == 0:\n",
    "            if var_names is None:\n",
    "                names += [('var%d(t)' % (j+1)) for j in range(n_vars)]\n",
    "            else:\n",
    "                names += [(var_names[j] + '(t)') for j in range(n_vars)]\n",
    "        else:\n",
    "            if var_names is None:\n",
    "                names += [('var%d(t+%d)' % (j+1, i)) for j in range(n_vars)]\n",
    "            else:\n",
    "                names += [(var_names[j] + '(t+%d)' % i) for j in range(n_vars)]\n",
    "    \n",
    "    # Concatenate semua kolom\n",
    "    agg = pd.concat(cols, axis=1)\n",
    "    agg.columns = names\n",
    "    \n",
    "    # Hapus baris dengan nilai NaN\n",
    "    if dropnan:\n",
    "        agg.dropna(inplace=True)\n",
    "    \n",
    "    return agg\n",
    "\n",
    "# Contoh penggunaan:\n",
    "# Misalkan 'data' adalah DataFrame yang berisi data time series\n",
    "# dengan tiga fitur, dan kita ingin menggunakan 3 timestep mundur sebagai input\n",
    "# dan 1 timestep maju sebagai output, dan nama variabel untuk setiap fitur adalah\n",
    "# 'A', 'B', dan 'C'\n",
    "\n",
    "var_names = data.columns\n",
    "data_supervised = time_series_to_supervised(data, n_in=3, n_out=1, var_names=var_names)\n"
   ]
  },
  {
   "cell_type": "code",
   "execution_count": 32,
   "metadata": {},
   "outputs": [],
   "source": [
    "train_data = data_supervised[:lengh_train]\n",
    "validation_data = data_supervised[lengh_train:]"
   ]
  },
  {
   "cell_type": "code",
   "execution_count": 33,
   "metadata": {},
   "outputs": [],
   "source": [
    "y_train = train_data[[\"Open(t)\"]]\n",
    "X_train = train_data.drop([\"Open(t)\",\"Close(t)\",\"High(t)\",\"Low(t)\",\"Adj Close(t)\"],axis=1)"
   ]
  },
  {
   "cell_type": "code",
   "execution_count": 34,
   "metadata": {},
   "outputs": [],
   "source": [
    "scaler = MinMaxScaler(feature_range=(0,1))\n",
    "X_scaled_train = scaler.fit_transform(X_train)"
   ]
  },
  {
   "cell_type": "code",
   "execution_count": 35,
   "metadata": {},
   "outputs": [],
   "source": [
    "y_val = validation_data[[\"Open(t)\"]]\n",
    "X_val = validation_data.drop([\"Open(t)\",\"Close(t)\",\"High(t)\",\"Low(t)\",\"Adj Close(t)\"],axis=1)"
   ]
  },
  {
   "cell_type": "code",
   "execution_count": 36,
   "metadata": {},
   "outputs": [],
   "source": [
    "X_scaled_val = scaler.fit_transform(X_train)"
   ]
  },
  {
   "cell_type": "code",
   "execution_count": null,
   "metadata": {},
   "outputs": [],
   "source": []
  }
 ],
 "metadata": {
  "kernelspec": {
   "display_name": "base",
   "language": "python",
   "name": "python3"
  },
  "language_info": {
   "codemirror_mode": {
    "name": "ipython",
    "version": 3
   },
   "file_extension": ".py",
   "mimetype": "text/x-python",
   "name": "python",
   "nbconvert_exporter": "python",
   "pygments_lexer": "ipython3",
   "version": "3.11.5"
  }
 },
 "nbformat": 4,
 "nbformat_minor": 2
}
