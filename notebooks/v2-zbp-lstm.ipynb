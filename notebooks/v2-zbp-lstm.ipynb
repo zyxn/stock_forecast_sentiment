{
 "cells": [
  {
   "cell_type": "code",
   "execution_count": 168,
   "metadata": {},
   "outputs": [
    {
     "name": "stdout",
     "output_type": "stream",
     "text": [
      "env: MLFLOW_TRACKING_URI=sqlite:///mlruns.db\n"
     ]
    }
   ],
   "source": [
    "import pandas as pd\n",
    "import numpy as np\n",
    "from sklearn.preprocessing import MinMaxScaler\n",
    "from keras.models import Sequential\n",
    "from keras.layers import LSTM, Bidirectional, Dense, Dropout\n",
    "from keras.callbacks import EarlyStopping\n",
    "import matplotlib.pyplot as plt\n",
    "import mlflow\n",
    "import mlflow.keras\n",
    "mlflow.set_tracking_uri(uri=\"http://127.0.0.1:5000\")\n",
    "%env MLFLOW_TRACKING_URI=sqlite:///mlruns.db"
   ]
  },
  {
   "cell_type": "code",
   "execution_count": 169,
   "metadata": {},
   "outputs": [],
   "source": [
    "import numpy as np\n",
    "import tensorflow as tf\n",
    "\n",
    "# Set seed for numpy\n",
    "np.random.seed(42)\n",
    "\n",
    "# Set seed for TensorFlow\n",
    "tf.random.set_seed(42)\n"
   ]
  },
  {
   "cell_type": "code",
   "execution_count": 170,
   "metadata": {},
   "outputs": [
    {
     "data": {
      "text/html": [
       "<div>\n",
       "<style scoped>\n",
       "    .dataframe tbody tr th:only-of-type {\n",
       "        vertical-align: middle;\n",
       "    }\n",
       "\n",
       "    .dataframe tbody tr th {\n",
       "        vertical-align: top;\n",
       "    }\n",
       "\n",
       "    .dataframe thead th {\n",
       "        text-align: right;\n",
       "    }\n",
       "</style>\n",
       "<table border=\"1\" class=\"dataframe\">\n",
       "  <thead>\n",
       "    <tr style=\"text-align: right;\">\n",
       "      <th></th>\n",
       "      <th>Date</th>\n",
       "      <th>Open</th>\n",
       "      <th>High</th>\n",
       "      <th>Low</th>\n",
       "      <th>Close</th>\n",
       "      <th>Adj Close</th>\n",
       "      <th>Volume</th>\n",
       "    </tr>\n",
       "  </thead>\n",
       "  <tbody>\n",
       "    <tr>\n",
       "      <th>0</th>\n",
       "      <td>2022-12-14</td>\n",
       "      <td>6810.355957</td>\n",
       "      <td>6854.098145</td>\n",
       "      <td>6774.131836</td>\n",
       "      <td>6801.749023</td>\n",
       "      <td>6801.749023</td>\n",
       "      <td>215430000</td>\n",
       "    </tr>\n",
       "    <tr>\n",
       "      <th>1</th>\n",
       "      <td>2022-12-15</td>\n",
       "      <td>6801.789063</td>\n",
       "      <td>6801.837891</td>\n",
       "      <td>6740.955078</td>\n",
       "      <td>6751.859863</td>\n",
       "      <td>6751.859863</td>\n",
       "      <td>145093400</td>\n",
       "    </tr>\n",
       "    <tr>\n",
       "      <th>2</th>\n",
       "      <td>2022-12-16</td>\n",
       "      <td>6751.859863</td>\n",
       "      <td>6812.192871</td>\n",
       "      <td>6693.765137</td>\n",
       "      <td>6812.192871</td>\n",
       "      <td>6812.192871</td>\n",
       "      <td>156126900</td>\n",
       "    </tr>\n",
       "  </tbody>\n",
       "</table>\n",
       "</div>"
      ],
      "text/plain": [
       "         Date         Open         High          Low        Close  \\\n",
       "0  2022-12-14  6810.355957  6854.098145  6774.131836  6801.749023   \n",
       "1  2022-12-15  6801.789063  6801.837891  6740.955078  6751.859863   \n",
       "2  2022-12-16  6751.859863  6812.192871  6693.765137  6812.192871   \n",
       "\n",
       "     Adj Close     Volume  \n",
       "0  6801.749023  215430000  \n",
       "1  6751.859863  145093400  \n",
       "2  6812.192871  156126900  "
      ]
     },
     "execution_count": 170,
     "metadata": {},
     "output_type": "execute_result"
    }
   ],
   "source": [
    "# Load the dataset\n",
    "data = pd.read_csv(\"../data/external/ihsg 14-12-22 till 22-04-24.csv\")\n",
    "# data = pd.read_csv(\"../data/external/5 tahun.csv\")\n",
    "data.head(3)"
   ]
  },
  {
   "cell_type": "code",
   "execution_count": 171,
   "metadata": {},
   "outputs": [],
   "source": [
    "lengh_data = len(data)\n",
    "split_ratio = 0.8\n",
    "lengh_train = round(lengh_data * split_ratio)\n",
    "lengh_validation = lengh_data - lengh_train"
   ]
  },
  {
   "cell_type": "code",
   "execution_count": 172,
   "metadata": {},
   "outputs": [],
   "source": [
    "data = data.drop([\"Volume\"], axis=1)\n",
    "data['Date'] = pd.to_datetime(data['Date'])\n",
    "data = data.set_index(\"Date\")"
   ]
  },
  {
   "cell_type": "code",
   "execution_count": 173,
   "metadata": {},
   "outputs": [],
   "source": [
    "def time_series_to_supervised(data, n_in=1, n_out=1, dropnan=True, var_names=None):\n",
    "    n_vars = 1 if type(data) is list else data.shape[1]\n",
    "    df = pd.DataFrame(data)\n",
    "    cols, names = [], []\n",
    "    \n",
    "    # Input sequence (t-n, ... t-1)\n",
    "    for i in range(n_in, 0, -1):\n",
    "        cols.append(df.shift(i))\n",
    "        if var_names is None:\n",
    "            names += [('var%d(t-%d)' % (j+1, i)) for j in range(n_vars)]\n",
    "        else:\n",
    "            names += [(var_names[j] + '(t-%d)' % i) for j in range(n_vars)]\n",
    "    \n",
    "    # Output sequence (t, t+1, ... t+n)\n",
    "    for i in range(0, n_out):\n",
    "        cols.append(df.shift(-i))\n",
    "        if i == 0:\n",
    "            if var_names is None:\n",
    "                names += [('var%d(t)' % (j+1)) for j in range(n_vars)]\n",
    "            else:\n",
    "                names += [(var_names[j] + '(t)') for j in range(n_vars)]\n",
    "        else:\n",
    "            if var_names is None:\n",
    "                names += [('var%d(t+%d)' % (j+1, i)) for j in range(n_vars)]\n",
    "            else:\n",
    "                names += [(var_names[j] + '(t+%d)' % i) for j in range(n_vars)]\n",
    "    \n",
    "    # Concatenate all columns\n",
    "    agg = pd.concat(cols, axis=1)\n",
    "    agg.columns = names\n",
    "    \n",
    "    # Drop rows with NaN values\n",
    "    if dropnan:\n",
    "        agg.dropna(inplace=True)\n",
    "    \n",
    "    return agg"
   ]
  },
  {
   "cell_type": "code",
   "execution_count": 174,
   "metadata": {},
   "outputs": [],
   "source": [
    "# Apply the function to your data\n",
    "var_names = data.columns\n",
    "data_supervised = time_series_to_supervised(data, n_in=15, n_out=1, var_names=var_names)\n"
   ]
  },
  {
   "cell_type": "code",
   "execution_count": 175,
   "metadata": {},
   "outputs": [],
   "source": [
    "# Split the data into training and validation sets\n",
    "train_data = data_supervised[:lengh_train]\n",
    "validation_data = data_supervised[lengh_train:]"
   ]
  },
  {
   "cell_type": "code",
   "execution_count": 176,
   "metadata": {},
   "outputs": [],
   "source": [
    "scaler = MinMaxScaler()\n",
    "\n",
    "# Scale the training data\n",
    "scaled_train_data = scaler.fit_transform(train_data)\n",
    "scaled_train_data = pd.DataFrame(scaled_train_data, columns=train_data.columns)\n"
   ]
  },
  {
   "cell_type": "code",
   "execution_count": 177,
   "metadata": {},
   "outputs": [],
   "source": [
    "# Separate the target and features for training\n",
    "y_train_scaled = scaled_train_data[[\"Open(t)\"]]  \n",
    "X_train_scaled = scaled_train_data.drop([\"Open(t)\", \"Close(t)\", \"High(t)\", \"Low(t)\", \"Adj Close(t)\"], axis=1)\n"
   ]
  },
  {
   "cell_type": "code",
   "execution_count": 178,
   "metadata": {},
   "outputs": [
    {
     "name": "stdout",
     "output_type": "stream",
     "text": [
      "(255, 15, 5)\n"
     ]
    }
   ],
   "source": [
    "# Reshape the data for LSTM\n",
    "timesteps = 15\n",
    "features = 5\n",
    "X_train = []\n",
    "for i in range(timesteps):\n",
    "    X_train.append(X_train_scaled.iloc[:, i*features:(i+1)*features].values)\n",
    "\n",
    "X_train = np.array(X_train).transpose(1, 0, 2)\n",
    "\n",
    "print(X_train.shape)"
   ]
  },
  {
   "cell_type": "code",
   "execution_count": 179,
   "metadata": {},
   "outputs": [
    {
     "data": {
      "text/plain": [
       "<Experiment: artifact_location='mlflow-artifacts:/1', creation_time=1723652088995, experiment_id='1', last_update_time=1723652370853, lifecycle_stage='active', name='Stock Forecasting', tags={}>"
      ]
     },
     "execution_count": 179,
     "metadata": {},
     "output_type": "execute_result"
    }
   ],
   "source": [
    "mlflow.set_experiment(\"Stock Forecasting\")"
   ]
  },
  {
   "cell_type": "code",
   "execution_count": 180,
   "metadata": {},
   "outputs": [
    {
     "name": "stdout",
     "output_type": "stream",
     "text": [
      "Model: \"sequential_11\"\n",
      "_________________________________________________________________\n",
      " Layer (type)                Output Shape              Param #   \n",
      "=================================================================\n",
      " bidirectional_11 (Bidirect  (None, 15, 256)           137216    \n",
      " ional)                                                          \n",
      "                                                                 \n",
      " dropout_11 (Dropout)        (None, 15, 256)           0         \n",
      "                                                                 \n",
      " lstm_23 (LSTM)              (None, 128)               197120    \n",
      "                                                                 \n",
      " dense_22 (Dense)            (None, 128)               16512     \n",
      "                                                                 \n",
      " dense_23 (Dense)            (None, 1)                 129       \n",
      "                                                                 \n",
      "=================================================================\n",
      "Total params: 350977 (1.34 MB)\n",
      "Trainable params: 350977 (1.34 MB)\n",
      "Non-trainable params: 0 (0.00 Byte)\n",
      "_________________________________________________________________\n"
     ]
    },
    {
     "name": "stderr",
     "output_type": "stream",
     "text": [
      "2024/08/14 23:26:55 WARNING mlflow.tensorflow: Failed to log training dataset information to MLflow Tracking. Reason: 'Series' object has no attribute 'flatten'\n"
     ]
    },
    {
     "name": "stdout",
     "output_type": "stream",
     "text": [
      "Epoch 1/200\n",
      "6/8 [=====================>........] - ETA: 0s - loss: 47353716.0000 - mse: 47353716.0000WARNING:tensorflow:Callback method `on_train_batch_end` is slow compared to the batch time (batch time: 0.0476s vs `on_train_batch_end` time: 0.3087s). Check your callbacks.\n"
     ]
    },
    {
     "name": "stderr",
     "output_type": "stream",
     "text": [
      "WARNING:tensorflow:Callback method `on_train_batch_end` is slow compared to the batch time (batch time: 0.0476s vs `on_train_batch_end` time: 0.3087s). Check your callbacks.\n"
     ]
    },
    {
     "name": "stdout",
     "output_type": "stream",
     "text": [
      "8/8 [==============================] - ETA: 0s - loss: 47413008.0000 - mse: 47413008.0000"
     ]
    },
    {
     "name": "stderr",
     "output_type": "stream",
     "text": [
      "2024/08/14 23:27:03 WARNING mlflow.utils.checkpoint_utils: Checkpoint logging is skipped, because checkpoint 'save_best_only' config is True, it requires to compare the monitored metric value, but the provided monitored metric value is not available.\n"
     ]
    },
    {
     "name": "stdout",
     "output_type": "stream",
     "text": [
      "8/8 [==============================] - 8s 55ms/step - loss: 47413008.0000 - mse: 47413008.0000\n",
      "Epoch 2/200\n",
      "8/8 [==============================] - ETA: 0s - loss: 45953280.0000 - mse: 45953280.0000"
     ]
    },
    {
     "name": "stderr",
     "output_type": "stream",
     "text": [
      "2024/08/14 23:27:04 WARNING mlflow.utils.checkpoint_utils: Checkpoint logging is skipped, because checkpoint 'save_best_only' config is True, it requires to compare the monitored metric value, but the provided monitored metric value is not available.\n"
     ]
    },
    {
     "name": "stdout",
     "output_type": "stream",
     "text": [
      "8/8 [==============================] - 0s 53ms/step - loss: 45953280.0000 - mse: 45953280.0000\n",
      "Epoch 3/200\n",
      "8/8 [==============================] - ETA: 0s - loss: 34561952.0000 - mse: 34561952.0000"
     ]
    },
    {
     "name": "stderr",
     "output_type": "stream",
     "text": [
      "2024/08/14 23:27:04 WARNING mlflow.utils.checkpoint_utils: Checkpoint logging is skipped, because checkpoint 'save_best_only' config is True, it requires to compare the monitored metric value, but the provided monitored metric value is not available.\n"
     ]
    },
    {
     "name": "stdout",
     "output_type": "stream",
     "text": [
      "8/8 [==============================] - 0s 58ms/step - loss: 34561952.0000 - mse: 34561952.0000\n",
      "Epoch 4/200\n",
      "8/8 [==============================] - ETA: 0s - loss: 34771044.0000 - mse: 34771044.0000"
     ]
    },
    {
     "name": "stderr",
     "output_type": "stream",
     "text": [
      "2024/08/14 23:27:05 WARNING mlflow.utils.checkpoint_utils: Checkpoint logging is skipped, because checkpoint 'save_best_only' config is True, it requires to compare the monitored metric value, but the provided monitored metric value is not available.\n"
     ]
    },
    {
     "name": "stdout",
     "output_type": "stream",
     "text": [
      "8/8 [==============================] - 0s 56ms/step - loss: 34771044.0000 - mse: 34771044.0000\n",
      "Epoch 5/200\n",
      "8/8 [==============================] - ETA: 0s - loss: 24277190.0000 - mse: 24277190.0000"
     ]
    },
    {
     "name": "stderr",
     "output_type": "stream",
     "text": [
      "2024/08/14 23:27:05 WARNING mlflow.utils.checkpoint_utils: Checkpoint logging is skipped, because checkpoint 'save_best_only' config is True, it requires to compare the monitored metric value, but the provided monitored metric value is not available.\n"
     ]
    },
    {
     "name": "stdout",
     "output_type": "stream",
     "text": [
      "8/8 [==============================] - 1s 71ms/step - loss: 24277190.0000 - mse: 24277190.0000\n",
      "Epoch 6/200\n",
      "8/8 [==============================] - ETA: 0s - loss: 10810626.0000 - mse: 10810626.0000"
     ]
    },
    {
     "name": "stderr",
     "output_type": "stream",
     "text": [
      "2024/08/14 23:27:06 WARNING mlflow.utils.checkpoint_utils: Checkpoint logging is skipped, because checkpoint 'save_best_only' config is True, it requires to compare the monitored metric value, but the provided monitored metric value is not available.\n"
     ]
    },
    {
     "name": "stdout",
     "output_type": "stream",
     "text": [
      "8/8 [==============================] - 0s 56ms/step - loss: 10810626.0000 - mse: 10810626.0000\n",
      "Epoch 7/200\n",
      "8/8 [==============================] - ETA: 0s - loss: 4973365.0000 - mse: 4973365.0000"
     ]
    },
    {
     "name": "stderr",
     "output_type": "stream",
     "text": [
      "2024/08/14 23:27:06 WARNING mlflow.utils.checkpoint_utils: Checkpoint logging is skipped, because checkpoint 'save_best_only' config is True, it requires to compare the monitored metric value, but the provided monitored metric value is not available.\n"
     ]
    },
    {
     "name": "stdout",
     "output_type": "stream",
     "text": [
      "8/8 [==============================] - 1s 65ms/step - loss: 4973365.0000 - mse: 4973365.0000\n",
      "Epoch 8/200\n",
      "7/8 [=========================>....] - ETA: 0s - loss: 1999320.7500 - mse: 1999320.7500"
     ]
    },
    {
     "name": "stderr",
     "output_type": "stream",
     "text": [
      "2024/08/14 23:27:07 WARNING mlflow.utils.checkpoint_utils: Checkpoint logging is skipped, because checkpoint 'save_best_only' config is True, it requires to compare the monitored metric value, but the provided monitored metric value is not available.\n"
     ]
    },
    {
     "name": "stdout",
     "output_type": "stream",
     "text": [
      "8/8 [==============================] - 0s 50ms/step - loss: 1954315.2500 - mse: 1954315.2500\n",
      "Epoch 9/200\n",
      "8/8 [==============================] - ETA: 0s - loss: 883525.3750 - mse: 883525.3750 "
     ]
    },
    {
     "name": "stderr",
     "output_type": "stream",
     "text": [
      "2024/08/14 23:27:07 WARNING mlflow.utils.checkpoint_utils: Checkpoint logging is skipped, because checkpoint 'save_best_only' config is True, it requires to compare the monitored metric value, but the provided monitored metric value is not available.\n"
     ]
    },
    {
     "name": "stdout",
     "output_type": "stream",
     "text": [
      "8/8 [==============================] - 0s 50ms/step - loss: 883525.3750 - mse: 883525.3750\n",
      "Epoch 10/200\n",
      "7/8 [=========================>....] - ETA: 0s - loss: 387881.8438 - mse: 387881.8438"
     ]
    },
    {
     "name": "stderr",
     "output_type": "stream",
     "text": [
      "2024/08/14 23:27:08 WARNING mlflow.utils.checkpoint_utils: Checkpoint logging is skipped, because checkpoint 'save_best_only' config is True, it requires to compare the monitored metric value, but the provided monitored metric value is not available.\n"
     ]
    },
    {
     "name": "stdout",
     "output_type": "stream",
     "text": [
      "8/8 [==============================] - 0s 56ms/step - loss: 375862.7812 - mse: 375862.7812\n",
      "Epoch 11/200\n",
      "7/8 [=========================>....] - ETA: 0s - loss: 241193.2031 - mse: 241193.2031"
     ]
    },
    {
     "name": "stderr",
     "output_type": "stream",
     "text": [
      "2024/08/14 23:27:08 WARNING mlflow.utils.checkpoint_utils: Checkpoint logging is skipped, because checkpoint 'save_best_only' config is True, it requires to compare the monitored metric value, but the provided monitored metric value is not available.\n"
     ]
    },
    {
     "name": "stdout",
     "output_type": "stream",
     "text": [
      "8/8 [==============================] - 0s 47ms/step - loss: 233225.1094 - mse: 233225.1094\n",
      "Epoch 12/200\n",
      "8/8 [==============================] - ETA: 0s - loss: 149436.9688 - mse: 149436.9688"
     ]
    },
    {
     "name": "stderr",
     "output_type": "stream",
     "text": [
      "2024/08/14 23:27:08 WARNING mlflow.utils.checkpoint_utils: Checkpoint logging is skipped, because checkpoint 'save_best_only' config is True, it requires to compare the monitored metric value, but the provided monitored metric value is not available.\n"
     ]
    },
    {
     "name": "stdout",
     "output_type": "stream",
     "text": [
      "8/8 [==============================] - 0s 47ms/step - loss: 149436.9688 - mse: 149436.9688\n",
      "Epoch 13/200\n",
      "8/8 [==============================] - ETA: 0s - loss: 106470.6016 - mse: 106470.6016"
     ]
    },
    {
     "name": "stderr",
     "output_type": "stream",
     "text": [
      "2024/08/14 23:27:09 WARNING mlflow.utils.checkpoint_utils: Checkpoint logging is skipped, because checkpoint 'save_best_only' config is True, it requires to compare the monitored metric value, but the provided monitored metric value is not available.\n"
     ]
    },
    {
     "name": "stdout",
     "output_type": "stream",
     "text": [
      "8/8 [==============================] - 0s 56ms/step - loss: 106470.6016 - mse: 106470.6016\n",
      "Epoch 14/200\n",
      "7/8 [=========================>....] - ETA: 0s - loss: 109481.5469 - mse: 109481.5469"
     ]
    },
    {
     "name": "stderr",
     "output_type": "stream",
     "text": [
      "2024/08/14 23:27:09 WARNING mlflow.utils.checkpoint_utils: Checkpoint logging is skipped, because checkpoint 'save_best_only' config is True, it requires to compare the monitored metric value, but the provided monitored metric value is not available.\n"
     ]
    },
    {
     "name": "stdout",
     "output_type": "stream",
     "text": [
      "8/8 [==============================] - 0s 48ms/step - loss: 105150.2109 - mse: 105150.2109\n",
      "Epoch 15/200\n",
      "7/8 [=========================>....] - ETA: 0s - loss: 85547.2031 - mse: 85547.2031"
     ]
    },
    {
     "name": "stderr",
     "output_type": "stream",
     "text": [
      "2024/08/14 23:27:10 WARNING mlflow.utils.checkpoint_utils: Checkpoint logging is skipped, because checkpoint 'save_best_only' config is True, it requires to compare the monitored metric value, but the provided monitored metric value is not available.\n"
     ]
    },
    {
     "name": "stdout",
     "output_type": "stream",
     "text": [
      "8/8 [==============================] - 0s 46ms/step - loss: 91798.6250 - mse: 91798.6250\n",
      "Epoch 16/200\n",
      "7/8 [=========================>....] - ETA: 0s - loss: 67912.3672 - mse: 67912.3672"
     ]
    },
    {
     "name": "stderr",
     "output_type": "stream",
     "text": [
      "2024/08/14 23:27:10 WARNING mlflow.utils.checkpoint_utils: Checkpoint logging is skipped, because checkpoint 'save_best_only' config is True, it requires to compare the monitored metric value, but the provided monitored metric value is not available.\n"
     ]
    },
    {
     "name": "stdout",
     "output_type": "stream",
     "text": [
      "8/8 [==============================] - 0s 53ms/step - loss: 64677.8555 - mse: 64677.8555\n",
      "Epoch 17/200\n",
      "7/8 [=========================>....] - ETA: 0s - loss: 58112.6016 - mse: 58112.6016"
     ]
    },
    {
     "name": "stderr",
     "output_type": "stream",
     "text": [
      "2024/08/14 23:27:10 WARNING mlflow.utils.checkpoint_utils: Checkpoint logging is skipped, because checkpoint 'save_best_only' config is True, it requires to compare the monitored metric value, but the provided monitored metric value is not available.\n"
     ]
    },
    {
     "name": "stdout",
     "output_type": "stream",
     "text": [
      "8/8 [==============================] - 0s 45ms/step - loss: 58207.1289 - mse: 58207.1289\n",
      "Epoch 18/200\n",
      "8/8 [==============================] - ETA: 0s - loss: 50943.5938 - mse: 50943.5938"
     ]
    },
    {
     "name": "stderr",
     "output_type": "stream",
     "text": [
      "2024/08/14 23:27:11 WARNING mlflow.utils.checkpoint_utils: Checkpoint logging is skipped, because checkpoint 'save_best_only' config is True, it requires to compare the monitored metric value, but the provided monitored metric value is not available.\n"
     ]
    },
    {
     "name": "stdout",
     "output_type": "stream",
     "text": [
      "8/8 [==============================] - 0s 47ms/step - loss: 50943.5938 - mse: 50943.5938\n",
      "Epoch 19/200\n",
      "8/8 [==============================] - ETA: 0s - loss: 54404.8477 - mse: 54404.8477"
     ]
    },
    {
     "name": "stderr",
     "output_type": "stream",
     "text": [
      "2024/08/14 23:27:11 WARNING mlflow.utils.checkpoint_utils: Checkpoint logging is skipped, because checkpoint 'save_best_only' config is True, it requires to compare the monitored metric value, but the provided monitored metric value is not available.\n"
     ]
    },
    {
     "name": "stdout",
     "output_type": "stream",
     "text": [
      "8/8 [==============================] - 0s 59ms/step - loss: 54404.8477 - mse: 54404.8477\n",
      "Epoch 20/200\n",
      "7/8 [=========================>....] - ETA: 0s - loss: 47256.5430 - mse: 47256.5430"
     ]
    },
    {
     "name": "stderr",
     "output_type": "stream",
     "text": [
      "2024/08/14 23:27:12 WARNING mlflow.utils.checkpoint_utils: Checkpoint logging is skipped, because checkpoint 'save_best_only' config is True, it requires to compare the monitored metric value, but the provided monitored metric value is not available.\n"
     ]
    },
    {
     "name": "stdout",
     "output_type": "stream",
     "text": [
      "8/8 [==============================] - 0s 46ms/step - loss: 45113.7266 - mse: 45113.7266\n",
      "Epoch 21/200\n",
      "7/8 [=========================>....] - ETA: 0s - loss: 33639.9297 - mse: 33639.9297"
     ]
    },
    {
     "name": "stderr",
     "output_type": "stream",
     "text": [
      "2024/08/14 23:27:12 WARNING mlflow.utils.checkpoint_utils: Checkpoint logging is skipped, because checkpoint 'save_best_only' config is True, it requires to compare the monitored metric value, but the provided monitored metric value is not available.\n"
     ]
    },
    {
     "name": "stdout",
     "output_type": "stream",
     "text": [
      "8/8 [==============================] - 0s 47ms/step - loss: 32714.0898 - mse: 32714.0898\n",
      "Epoch 22/200\n",
      "8/8 [==============================] - ETA: 0s - loss: 27523.7422 - mse: 27523.7422"
     ]
    },
    {
     "name": "stderr",
     "output_type": "stream",
     "text": [
      "2024/08/14 23:27:12 WARNING mlflow.utils.checkpoint_utils: Checkpoint logging is skipped, because checkpoint 'save_best_only' config is True, it requires to compare the monitored metric value, but the provided monitored metric value is not available.\n"
     ]
    },
    {
     "name": "stdout",
     "output_type": "stream",
     "text": [
      "8/8 [==============================] - 0s 54ms/step - loss: 27523.7422 - mse: 27523.7422\n",
      "Epoch 23/200\n",
      "7/8 [=========================>....] - ETA: 0s - loss: 24283.7949 - mse: 24283.7949"
     ]
    },
    {
     "name": "stderr",
     "output_type": "stream",
     "text": [
      "2024/08/14 23:27:13 WARNING mlflow.utils.checkpoint_utils: Checkpoint logging is skipped, because checkpoint 'save_best_only' config is True, it requires to compare the monitored metric value, but the provided monitored metric value is not available.\n"
     ]
    },
    {
     "name": "stdout",
     "output_type": "stream",
     "text": [
      "8/8 [==============================] - 0s 45ms/step - loss: 24108.2812 - mse: 24108.2812\n",
      "Epoch 24/200\n",
      "7/8 [=========================>....] - ETA: 0s - loss: 28533.7129 - mse: 28533.7129"
     ]
    },
    {
     "name": "stderr",
     "output_type": "stream",
     "text": [
      "2024/08/14 23:27:13 WARNING mlflow.utils.checkpoint_utils: Checkpoint logging is skipped, because checkpoint 'save_best_only' config is True, it requires to compare the monitored metric value, but the provided monitored metric value is not available.\n"
     ]
    },
    {
     "name": "stdout",
     "output_type": "stream",
     "text": [
      "8/8 [==============================] - 0s 45ms/step - loss: 27756.2598 - mse: 27756.2598\n",
      "Epoch 25/200\n",
      "7/8 [=========================>....] - ETA: 0s - loss: 22765.6699 - mse: 22765.6699"
     ]
    },
    {
     "name": "stderr",
     "output_type": "stream",
     "text": [
      "2024/08/14 23:27:14 WARNING mlflow.utils.checkpoint_utils: Checkpoint logging is skipped, because checkpoint 'save_best_only' config is True, it requires to compare the monitored metric value, but the provided monitored metric value is not available.\n"
     ]
    },
    {
     "name": "stdout",
     "output_type": "stream",
     "text": [
      "8/8 [==============================] - 0s 53ms/step - loss: 23137.7246 - mse: 23137.7246\n",
      "Epoch 26/200\n",
      "7/8 [=========================>....] - ETA: 0s - loss: 31883.7461 - mse: 31883.7461"
     ]
    },
    {
     "name": "stderr",
     "output_type": "stream",
     "text": [
      "2024/08/14 23:27:14 WARNING mlflow.utils.checkpoint_utils: Checkpoint logging is skipped, because checkpoint 'save_best_only' config is True, it requires to compare the monitored metric value, but the provided monitored metric value is not available.\n"
     ]
    },
    {
     "name": "stdout",
     "output_type": "stream",
     "text": [
      "8/8 [==============================] - 0s 46ms/step - loss: 32751.2305 - mse: 32751.2305\n",
      "Epoch 27/200\n",
      "7/8 [=========================>....] - ETA: 0s - loss: 28924.3867 - mse: 28924.3867"
     ]
    },
    {
     "name": "stderr",
     "output_type": "stream",
     "text": [
      "2024/08/14 23:27:14 WARNING mlflow.utils.checkpoint_utils: Checkpoint logging is skipped, because checkpoint 'save_best_only' config is True, it requires to compare the monitored metric value, but the provided monitored metric value is not available.\n"
     ]
    },
    {
     "name": "stdout",
     "output_type": "stream",
     "text": [
      "8/8 [==============================] - 0s 48ms/step - loss: 29553.6738 - mse: 29553.6738\n",
      "Epoch 28/200\n",
      "7/8 [=========================>....] - ETA: 0s - loss: 35729.6953 - mse: 35729.6953"
     ]
    },
    {
     "name": "stderr",
     "output_type": "stream",
     "text": [
      "2024/08/14 23:27:15 WARNING mlflow.utils.checkpoint_utils: Checkpoint logging is skipped, because checkpoint 'save_best_only' config is True, it requires to compare the monitored metric value, but the provided monitored metric value is not available.\n"
     ]
    },
    {
     "name": "stdout",
     "output_type": "stream",
     "text": [
      "8/8 [==============================] - 0s 55ms/step - loss: 33530.4570 - mse: 33530.4570\n",
      "Epoch 29/200\n",
      "8/8 [==============================] - ETA: 0s - loss: 21490.1680 - mse: 21490.1680"
     ]
    },
    {
     "name": "stderr",
     "output_type": "stream",
     "text": [
      "2024/08/14 23:27:15 WARNING mlflow.utils.checkpoint_utils: Checkpoint logging is skipped, because checkpoint 'save_best_only' config is True, it requires to compare the monitored metric value, but the provided monitored metric value is not available.\n"
     ]
    },
    {
     "name": "stdout",
     "output_type": "stream",
     "text": [
      "8/8 [==============================] - 0s 52ms/step - loss: 21490.1680 - mse: 21490.1680\n",
      "Epoch 30/200\n",
      "8/8 [==============================] - ETA: 0s - loss: 20348.2480 - mse: 20348.2480"
     ]
    },
    {
     "name": "stderr",
     "output_type": "stream",
     "text": [
      "2024/08/14 23:27:16 WARNING mlflow.utils.checkpoint_utils: Checkpoint logging is skipped, because checkpoint 'save_best_only' config is True, it requires to compare the monitored metric value, but the provided monitored metric value is not available.\n"
     ]
    },
    {
     "name": "stdout",
     "output_type": "stream",
     "text": [
      "8/8 [==============================] - 0s 49ms/step - loss: 20348.2480 - mse: 20348.2480\n",
      "Epoch 31/200\n",
      "8/8 [==============================] - ETA: 0s - loss: 15769.3428 - mse: 15769.3428"
     ]
    },
    {
     "name": "stderr",
     "output_type": "stream",
     "text": [
      "2024/08/14 23:27:16 WARNING mlflow.utils.checkpoint_utils: Checkpoint logging is skipped, because checkpoint 'save_best_only' config is True, it requires to compare the monitored metric value, but the provided monitored metric value is not available.\n"
     ]
    },
    {
     "name": "stdout",
     "output_type": "stream",
     "text": [
      "8/8 [==============================] - 1s 60ms/step - loss: 15769.3428 - mse: 15769.3428\n",
      "Epoch 32/200\n",
      "8/8 [==============================] - ETA: 0s - loss: 15821.3164 - mse: 15821.3164"
     ]
    },
    {
     "name": "stderr",
     "output_type": "stream",
     "text": [
      "2024/08/14 23:27:16 WARNING mlflow.utils.checkpoint_utils: Checkpoint logging is skipped, because checkpoint 'save_best_only' config is True, it requires to compare the monitored metric value, but the provided monitored metric value is not available.\n"
     ]
    },
    {
     "name": "stdout",
     "output_type": "stream",
     "text": [
      "8/8 [==============================] - 0s 48ms/step - loss: 15821.3164 - mse: 15821.3164\n",
      "Epoch 33/200\n",
      "8/8 [==============================] - ETA: 0s - loss: 17735.5098 - mse: 17735.5098"
     ]
    },
    {
     "name": "stderr",
     "output_type": "stream",
     "text": [
      "2024/08/14 23:27:17 WARNING mlflow.utils.checkpoint_utils: Checkpoint logging is skipped, because checkpoint 'save_best_only' config is True, it requires to compare the monitored metric value, but the provided monitored metric value is not available.\n"
     ]
    },
    {
     "name": "stdout",
     "output_type": "stream",
     "text": [
      "8/8 [==============================] - 0s 48ms/step - loss: 17735.5098 - mse: 17735.5098\n",
      "Epoch 34/200\n",
      "7/8 [=========================>....] - ETA: 0s - loss: 17824.4355 - mse: 17824.4355"
     ]
    },
    {
     "name": "stderr",
     "output_type": "stream",
     "text": [
      "2024/08/14 23:27:17 WARNING mlflow.utils.checkpoint_utils: Checkpoint logging is skipped, because checkpoint 'save_best_only' config is True, it requires to compare the monitored metric value, but the provided monitored metric value is not available.\n"
     ]
    },
    {
     "name": "stdout",
     "output_type": "stream",
     "text": [
      "8/8 [==============================] - 0s 49ms/step - loss: 16402.9219 - mse: 16402.9219\n",
      "Epoch 35/200\n",
      "8/8 [==============================] - ETA: 0s - loss: 14337.4375 - mse: 14337.4375"
     ]
    },
    {
     "name": "stderr",
     "output_type": "stream",
     "text": [
      "2024/08/14 23:27:18 WARNING mlflow.utils.checkpoint_utils: Checkpoint logging is skipped, because checkpoint 'save_best_only' config is True, it requires to compare the monitored metric value, but the provided monitored metric value is not available.\n"
     ]
    },
    {
     "name": "stdout",
     "output_type": "stream",
     "text": [
      "8/8 [==============================] - 0s 47ms/step - loss: 14337.4375 - mse: 14337.4375\n",
      "Epoch 36/200\n",
      "8/8 [==============================] - ETA: 0s - loss: 17017.7773 - mse: 17017.7773"
     ]
    },
    {
     "name": "stderr",
     "output_type": "stream",
     "text": [
      "2024/08/14 23:27:18 WARNING mlflow.utils.checkpoint_utils: Checkpoint logging is skipped, because checkpoint 'save_best_only' config is True, it requires to compare the monitored metric value, but the provided monitored metric value is not available.\n"
     ]
    },
    {
     "name": "stdout",
     "output_type": "stream",
     "text": [
      "8/8 [==============================] - 0s 47ms/step - loss: 17017.7773 - mse: 17017.7773\n",
      "Epoch 37/200\n",
      "8/8 [==============================] - ETA: 0s - loss: 29554.9805 - mse: 29554.9805"
     ]
    },
    {
     "name": "stderr",
     "output_type": "stream",
     "text": [
      "2024/08/14 23:27:19 WARNING mlflow.utils.checkpoint_utils: Checkpoint logging is skipped, because checkpoint 'save_best_only' config is True, it requires to compare the monitored metric value, but the provided monitored metric value is not available.\n"
     ]
    },
    {
     "name": "stdout",
     "output_type": "stream",
     "text": [
      "8/8 [==============================] - 0s 57ms/step - loss: 29554.9805 - mse: 29554.9805\n",
      "Epoch 38/200\n",
      "8/8 [==============================] - ETA: 0s - loss: 22422.2227 - mse: 22422.2227"
     ]
    },
    {
     "name": "stderr",
     "output_type": "stream",
     "text": [
      "2024/08/14 23:27:19 WARNING mlflow.utils.checkpoint_utils: Checkpoint logging is skipped, because checkpoint 'save_best_only' config is True, it requires to compare the monitored metric value, but the provided monitored metric value is not available.\n"
     ]
    },
    {
     "name": "stdout",
     "output_type": "stream",
     "text": [
      "8/8 [==============================] - 0s 47ms/step - loss: 22422.2227 - mse: 22422.2227\n",
      "Epoch 39/200\n",
      "8/8 [==============================] - ETA: 0s - loss: 18677.3809 - mse: 18677.3809"
     ]
    },
    {
     "name": "stderr",
     "output_type": "stream",
     "text": [
      "2024/08/14 23:27:19 WARNING mlflow.utils.checkpoint_utils: Checkpoint logging is skipped, because checkpoint 'save_best_only' config is True, it requires to compare the monitored metric value, but the provided monitored metric value is not available.\n"
     ]
    },
    {
     "name": "stdout",
     "output_type": "stream",
     "text": [
      "8/8 [==============================] - 0s 47ms/step - loss: 18677.3809 - mse: 18677.3809\n",
      "Epoch 40/200\n",
      "8/8 [==============================] - ETA: 0s - loss: 12242.9834 - mse: 12242.9834"
     ]
    },
    {
     "name": "stderr",
     "output_type": "stream",
     "text": [
      "2024/08/14 23:27:20 WARNING mlflow.utils.checkpoint_utils: Checkpoint logging is skipped, because checkpoint 'save_best_only' config is True, it requires to compare the monitored metric value, but the provided monitored metric value is not available.\n"
     ]
    },
    {
     "name": "stdout",
     "output_type": "stream",
     "text": [
      "8/8 [==============================] - 0s 55ms/step - loss: 12242.9834 - mse: 12242.9834\n",
      "Epoch 41/200\n",
      "8/8 [==============================] - ETA: 0s - loss: 16376.8369 - mse: 16376.8369"
     ]
    },
    {
     "name": "stderr",
     "output_type": "stream",
     "text": [
      "2024/08/14 23:27:20 WARNING mlflow.utils.checkpoint_utils: Checkpoint logging is skipped, because checkpoint 'save_best_only' config is True, it requires to compare the monitored metric value, but the provided monitored metric value is not available.\n"
     ]
    },
    {
     "name": "stdout",
     "output_type": "stream",
     "text": [
      "8/8 [==============================] - 0s 52ms/step - loss: 16376.8369 - mse: 16376.8369\n",
      "Epoch 42/200\n",
      "8/8 [==============================] - ETA: 0s - loss: 14847.7246 - mse: 14847.7246"
     ]
    },
    {
     "name": "stderr",
     "output_type": "stream",
     "text": [
      "2024/08/14 23:27:21 WARNING mlflow.utils.checkpoint_utils: Checkpoint logging is skipped, because checkpoint 'save_best_only' config is True, it requires to compare the monitored metric value, but the provided monitored metric value is not available.\n"
     ]
    },
    {
     "name": "stdout",
     "output_type": "stream",
     "text": [
      "8/8 [==============================] - 0s 53ms/step - loss: 14847.7246 - mse: 14847.7246\n",
      "Epoch 43/200\n",
      "8/8 [==============================] - ETA: 0s - loss: 15099.5342 - mse: 15099.5342"
     ]
    },
    {
     "name": "stderr",
     "output_type": "stream",
     "text": [
      "2024/08/14 23:27:21 WARNING mlflow.utils.checkpoint_utils: Checkpoint logging is skipped, because checkpoint 'save_best_only' config is True, it requires to compare the monitored metric value, but the provided monitored metric value is not available.\n"
     ]
    },
    {
     "name": "stdout",
     "output_type": "stream",
     "text": [
      "8/8 [==============================] - 1s 62ms/step - loss: 15099.5342 - mse: 15099.5342\n",
      "Epoch 44/200\n",
      "7/8 [=========================>....] - ETA: 0s - loss: 20389.8730 - mse: 20389.8730"
     ]
    },
    {
     "name": "stderr",
     "output_type": "stream",
     "text": [
      "2024/08/14 23:27:22 WARNING mlflow.utils.checkpoint_utils: Checkpoint logging is skipped, because checkpoint 'save_best_only' config is True, it requires to compare the monitored metric value, but the provided monitored metric value is not available.\n"
     ]
    },
    {
     "name": "stdout",
     "output_type": "stream",
     "text": [
      "8/8 [==============================] - 0s 54ms/step - loss: 19854.7520 - mse: 19854.7520\n",
      "Epoch 45/200\n",
      "8/8 [==============================] - ETA: 0s - loss: 23327.9805 - mse: 23327.9805"
     ]
    },
    {
     "name": "stderr",
     "output_type": "stream",
     "text": [
      "2024/08/14 23:27:22 WARNING mlflow.utils.checkpoint_utils: Checkpoint logging is skipped, because checkpoint 'save_best_only' config is True, it requires to compare the monitored metric value, but the provided monitored metric value is not available.\n"
     ]
    },
    {
     "name": "stdout",
     "output_type": "stream",
     "text": [
      "8/8 [==============================] - 0s 57ms/step - loss: 23327.9805 - mse: 23327.9805\n",
      "Epoch 46/200\n",
      "8/8 [==============================] - ETA: 0s - loss: 29243.0625 - mse: 29243.0625"
     ]
    },
    {
     "name": "stderr",
     "output_type": "stream",
     "text": [
      "2024/08/14 23:27:23 WARNING mlflow.utils.checkpoint_utils: Checkpoint logging is skipped, because checkpoint 'save_best_only' config is True, it requires to compare the monitored metric value, but the provided monitored metric value is not available.\n"
     ]
    },
    {
     "name": "stdout",
     "output_type": "stream",
     "text": [
      "8/8 [==============================] - 0s 53ms/step - loss: 29243.0625 - mse: 29243.0625\n",
      "Epoch 47/200\n",
      "7/8 [=========================>....] - ETA: 0s - loss: 20643.1035 - mse: 20643.1035"
     ]
    },
    {
     "name": "stderr",
     "output_type": "stream",
     "text": [
      "2024/08/14 23:27:23 WARNING mlflow.utils.checkpoint_utils: Checkpoint logging is skipped, because checkpoint 'save_best_only' config is True, it requires to compare the monitored metric value, but the provided monitored metric value is not available.\n"
     ]
    },
    {
     "name": "stdout",
     "output_type": "stream",
     "text": [
      "8/8 [==============================] - 0s 51ms/step - loss: 21336.9824 - mse: 21336.9824\n",
      "Epoch 48/200\n",
      "8/8 [==============================] - ETA: 0s - loss: 15917.5312 - mse: 15917.5312"
     ]
    },
    {
     "name": "stderr",
     "output_type": "stream",
     "text": [
      "2024/08/14 23:27:24 WARNING mlflow.utils.checkpoint_utils: Checkpoint logging is skipped, because checkpoint 'save_best_only' config is True, it requires to compare the monitored metric value, but the provided monitored metric value is not available.\n"
     ]
    },
    {
     "name": "stdout",
     "output_type": "stream",
     "text": [
      "8/8 [==============================] - 1s 69ms/step - loss: 15917.5312 - mse: 15917.5312\n",
      "Epoch 49/200\n",
      "8/8 [==============================] - ETA: 0s - loss: 19370.5879 - mse: 19370.5879"
     ]
    },
    {
     "name": "stderr",
     "output_type": "stream",
     "text": [
      "2024/08/14 23:27:24 WARNING mlflow.utils.checkpoint_utils: Checkpoint logging is skipped, because checkpoint 'save_best_only' config is True, it requires to compare the monitored metric value, but the provided monitored metric value is not available.\n"
     ]
    },
    {
     "name": "stdout",
     "output_type": "stream",
     "text": [
      "8/8 [==============================] - 0s 51ms/step - loss: 19370.5879 - mse: 19370.5879\n",
      "Epoch 50/200\n",
      "8/8 [==============================] - ETA: 0s - loss: 15299.1768 - mse: 15299.1768"
     ]
    },
    {
     "name": "stderr",
     "output_type": "stream",
     "text": [
      "2024/08/14 23:27:24 WARNING mlflow.utils.checkpoint_utils: Checkpoint logging is skipped, because checkpoint 'save_best_only' config is True, it requires to compare the monitored metric value, but the provided monitored metric value is not available.\n"
     ]
    },
    {
     "name": "stdout",
     "output_type": "stream",
     "text": [
      "8/8 [==============================] - 0s 54ms/step - loss: 15299.1768 - mse: 15299.1768\n",
      "Epoch 51/200\n",
      "8/8 [==============================] - ETA: 0s - loss: 17462.8809 - mse: 17462.8809"
     ]
    },
    {
     "name": "stderr",
     "output_type": "stream",
     "text": [
      "2024/08/14 23:27:25 WARNING mlflow.utils.checkpoint_utils: Checkpoint logging is skipped, because checkpoint 'save_best_only' config is True, it requires to compare the monitored metric value, but the provided monitored metric value is not available.\n"
     ]
    },
    {
     "name": "stdout",
     "output_type": "stream",
     "text": [
      "8/8 [==============================] - 1s 60ms/step - loss: 17462.8809 - mse: 17462.8809\n",
      "Epoch 52/200\n",
      "8/8 [==============================] - ETA: 0s - loss: 18477.9102 - mse: 18477.9102"
     ]
    },
    {
     "name": "stderr",
     "output_type": "stream",
     "text": [
      "2024/08/14 23:27:25 WARNING mlflow.utils.checkpoint_utils: Checkpoint logging is skipped, because checkpoint 'save_best_only' config is True, it requires to compare the monitored metric value, but the provided monitored metric value is not available.\n"
     ]
    },
    {
     "name": "stdout",
     "output_type": "stream",
     "text": [
      "8/8 [==============================] - 0s 51ms/step - loss: 18477.9102 - mse: 18477.9102\n",
      "Epoch 53/200\n",
      "8/8 [==============================] - ETA: 0s - loss: 23789.4766 - mse: 23789.4766"
     ]
    },
    {
     "name": "stderr",
     "output_type": "stream",
     "text": [
      "2024/08/14 23:27:26 WARNING mlflow.utils.checkpoint_utils: Checkpoint logging is skipped, because checkpoint 'save_best_only' config is True, it requires to compare the monitored metric value, but the provided monitored metric value is not available.\n"
     ]
    },
    {
     "name": "stdout",
     "output_type": "stream",
     "text": [
      "8/8 [==============================] - 1s 67ms/step - loss: 23789.4766 - mse: 23789.4766\n",
      "Epoch 54/200\n",
      "8/8 [==============================] - ETA: 0s - loss: 30951.2832 - mse: 30951.2832"
     ]
    },
    {
     "name": "stderr",
     "output_type": "stream",
     "text": [
      "2024/08/14 23:27:26 WARNING mlflow.utils.checkpoint_utils: Checkpoint logging is skipped, because checkpoint 'save_best_only' config is True, it requires to compare the monitored metric value, but the provided monitored metric value is not available.\n"
     ]
    },
    {
     "name": "stdout",
     "output_type": "stream",
     "text": [
      "8/8 [==============================] - 0s 61ms/step - loss: 30951.2832 - mse: 30951.2832\n",
      "Epoch 55/200\n",
      "8/8 [==============================] - ETA: 0s - loss: 30507.1836 - mse: 30507.1836"
     ]
    },
    {
     "name": "stderr",
     "output_type": "stream",
     "text": [
      "2024/08/14 23:27:27 WARNING mlflow.utils.checkpoint_utils: Checkpoint logging is skipped, because checkpoint 'save_best_only' config is True, it requires to compare the monitored metric value, but the provided monitored metric value is not available.\n"
     ]
    },
    {
     "name": "stdout",
     "output_type": "stream",
     "text": [
      "8/8 [==============================] - 0s 51ms/step - loss: 30507.1836 - mse: 30507.1836\n",
      "Epoch 56/200\n",
      "8/8 [==============================] - ETA: 0s - loss: 28728.6699 - mse: 28728.6699"
     ]
    },
    {
     "name": "stderr",
     "output_type": "stream",
     "text": [
      "2024/08/14 23:27:27 WARNING mlflow.utils.checkpoint_utils: Checkpoint logging is skipped, because checkpoint 'save_best_only' config is True, it requires to compare the monitored metric value, but the provided monitored metric value is not available.\n"
     ]
    },
    {
     "name": "stdout",
     "output_type": "stream",
     "text": [
      "8/8 [==============================] - 0s 49ms/step - loss: 28728.6699 - mse: 28728.6699\n",
      "Epoch 57/200\n",
      "7/8 [=========================>....] - ETA: 0s - loss: 27500.7051 - mse: 27500.7051"
     ]
    },
    {
     "name": "stderr",
     "output_type": "stream",
     "text": [
      "2024/08/14 23:27:28 WARNING mlflow.utils.checkpoint_utils: Checkpoint logging is skipped, because checkpoint 'save_best_only' config is True, it requires to compare the monitored metric value, but the provided monitored metric value is not available.\n"
     ]
    },
    {
     "name": "stdout",
     "output_type": "stream",
     "text": [
      "8/8 [==============================] - 0s 55ms/step - loss: 25668.5547 - mse: 25668.5547\n",
      "Epoch 58/200\n",
      "8/8 [==============================] - ETA: 0s - loss: 20155.0430 - mse: 20155.0430"
     ]
    },
    {
     "name": "stderr",
     "output_type": "stream",
     "text": [
      "2024/08/14 23:27:28 WARNING mlflow.utils.checkpoint_utils: Checkpoint logging is skipped, because checkpoint 'save_best_only' config is True, it requires to compare the monitored metric value, but the provided monitored metric value is not available.\n"
     ]
    },
    {
     "name": "stdout",
     "output_type": "stream",
     "text": [
      "8/8 [==============================] - 0s 49ms/step - loss: 20155.0430 - mse: 20155.0430\n",
      "Epoch 59/200\n",
      "8/8 [==============================] - ETA: 0s - loss: 15386.7822 - mse: 15386.7822"
     ]
    },
    {
     "name": "stderr",
     "output_type": "stream",
     "text": [
      "2024/08/14 23:27:28 WARNING mlflow.utils.checkpoint_utils: Checkpoint logging is skipped, because checkpoint 'save_best_only' config is True, it requires to compare the monitored metric value, but the provided monitored metric value is not available.\n"
     ]
    },
    {
     "name": "stdout",
     "output_type": "stream",
     "text": [
      "8/8 [==============================] - 0s 52ms/step - loss: 15386.7822 - mse: 15386.7822\n",
      "Epoch 60/200\n",
      "8/8 [==============================] - ETA: 0s - loss: 12321.5049 - mse: 12321.5049Restoring model weights from the end of the best epoch: 40.\n"
     ]
    },
    {
     "name": "stderr",
     "output_type": "stream",
     "text": [
      "2024/08/14 23:27:29 WARNING mlflow.utils.checkpoint_utils: Checkpoint logging is skipped, because checkpoint 'save_best_only' config is True, it requires to compare the monitored metric value, but the provided monitored metric value is not available.\n"
     ]
    },
    {
     "name": "stdout",
     "output_type": "stream",
     "text": [
      "8/8 [==============================] - 1s 67ms/step - loss: 12321.5049 - mse: 12321.5049\n",
      "Epoch 60: early stopping\n",
      "1/1 [==============================] - 1s 723ms/step\n",
      "INFO:tensorflow:Assets written to: C:\\Users\\ZADO\\AppData\\Local\\Temp\\tmprvd5djki\\model\\data\\model\\assets\n"
     ]
    },
    {
     "name": "stderr",
     "output_type": "stream",
     "text": [
      "INFO:tensorflow:Assets written to: C:\\Users\\ZADO\\AppData\\Local\\Temp\\tmprvd5djki\\model\\data\\model\\assets\n"
     ]
    },
    {
     "name": "stdout",
     "output_type": "stream",
     "text": [
      "8/8 [==============================] - 0s 14ms/step\n",
      "2/2 [==============================] - 0s 7ms/step\n"
     ]
    },
    {
     "name": "stderr",
     "output_type": "stream",
     "text": [
      "2024/08/14 23:28:00 INFO mlflow.tracking._tracking_service.client: 🏃 View run LSTM_Model_Training at: http://127.0.0.1:5000/#/experiments/1/runs/4b6dc6f5faee449aa61e2c1e6c815e1c.\n",
      "2024/08/14 23:28:00 INFO mlflow.tracking._tracking_service.client: 🧪 View experiment at: http://127.0.0.1:5000/#/experiments/1.\n"
     ]
    }
   ],
   "source": [
    "run_name = \"LSTM_Model_Training\"\n",
    "\n",
    "with mlflow.start_run(run_name=run_name):\n",
    "    model_lstm = Sequential()\n",
    "\n",
    "    # Adding layers\n",
    "    model_lstm.add(Bidirectional(LSTM(128, activation='relu', return_sequences=True), input_shape=(X_train.shape[1], X_train.shape[2])))\n",
    "    model_lstm.add(Dropout(0.1))\n",
    "    model_lstm.add(LSTM(128, activation='relu', return_sequences=False))\n",
    "    model_lstm.add(Dense(128))\n",
    "    model_lstm.add(Dense(1))\n",
    "\n",
    "    # Compile the model\n",
    "    model_lstm.compile(optimizer='adam', loss=\"mse\", metrics=[\"mse\"])\n",
    "\n",
    "    # Summary of the model (now the model is built)\n",
    "    model_lstm.summary()\n",
    "\n",
    "    # Early stopping callback\n",
    "    early_stopping = EarlyStopping(monitor='loss', patience=20, verbose=1, restore_best_weights=True)\n",
    "    mlflow.keras.autolog()\n",
    "    # Fit the model with early stopping\n",
    "    hist = model_lstm.fit(X_train, train_data['Open(t)'], \n",
    "                          epochs=200, \n",
    "                          batch_size=32,\n",
    "                          callbacks=[early_stopping])\n",
    "    \n",
    "    \n",
    "    y_pred = model_lstm.predict(X_train)\n",
    "    y_pred.squeeze()\n",
    "    t_mse = np.mean((y_pred.squeeze() - train_data['Open(t)'])**2)\n",
    "\n",
    "    # Menghitung Root Mean Squared Error (RMSE)\n",
    "    t_rmse = np.sqrt(t_mse)\n",
    "\n",
    "    mlflow.log_metrics({\"train_mse\": t_mse, \"train_rmse\": t_rmse})\n",
    "    scaled_val_data = scaler.fit_transform(validation_data)\n",
    "\n",
    "    # Konversi data yang telah dinormalisasi kembali ke dalam DataFrame\n",
    "    scaled_val_data = pd.DataFrame(scaled_val_data, columns=validation_data.columns)\n",
    "    y_val_scaled = scaled_val_data[[\"Open(t)\"]]  # Ambil kolom Open(t) sebagai target\n",
    "    X_val_scaled = scaled_val_data.drop([\"Open(t)\", \"Close(t)\", \"High(t)\", \"Low(t)\", \"Adj Close(t)\"], axis=1)\n",
    "    X_val = []\n",
    "    for i in range(timesteps):\n",
    "        X_val.append(X_val_scaled.iloc[:, i*features:(i+1)*features].values)\n",
    "\n",
    "    # Ubah list menjadi array numpy\n",
    "    X_val = np.array(X_val)\n",
    "    X_val = X_val.transpose(1, 0, 2)\n",
    "    # Bentuknya menjadi (jumlah_sampel, timestep, feature)\n",
    "    y_val_pred = model_lstm.predict(X_val)\n",
    "    y_val_pred.squeeze()\n",
    "    mse = np.mean((y_val_pred.squeeze() - validation_data['Open(t)'])**2)\n",
    "\n",
    "    # Menghitung Root Mean Squared Error (RMSE)\n",
    "    rmse = np.sqrt(mse)\n",
    "    mlflow.log_metrics({\"val_mse\": mse, \"val_rmse\": rmse})\n",
    "\n",
    "    mlflow.end_run()"
   ]
  },
  {
   "cell_type": "code",
   "execution_count": 181,
   "metadata": {},
   "outputs": [
    {
     "name": "stdout",
     "output_type": "stream",
     "text": [
      "MSE: 5712.589136365383\n",
      "RMSE: 75.58167196063728\n"
     ]
    }
   ],
   "source": [
    "\n",
    "\n",
    "print(\"MSE:\", t_mse)\n",
    "print(\"RMSE:\", t_rmse)"
   ]
  },
  {
   "cell_type": "code",
   "execution_count": 182,
   "metadata": {},
   "outputs": [
    {
     "data": {
      "image/png": "[encoded data removed]",
      "text/plain": [
       "<Figure size 1000x600 with 1 Axes>"
      ]
     },
     "metadata": {},
     "output_type": "display_data"
    }
   ],
   "source": [
    "\n",
    "plt.figure(figsize=(10, 6))\n",
    "plt.plot(train_data.index, y_pred.squeeze(), label='Prediksi (y_pred)', color='red')\n",
    "plt.plot(train_data.index, train_data['Open(t)'], label='Data Aktual', color='blue')\n",
    "plt.xlabel('Tanggal')\n",
    "plt.ylabel('Nilai Open')\n",
    "plt.title('Prediksi vs Data Aktual')\n",
    "plt.legend()\n",
    "plt.show()\n"
   ]
  },
  {
   "cell_type": "code",
   "execution_count": 183,
   "metadata": {},
   "outputs": [
    {
     "name": "stdout",
     "output_type": "stream",
     "text": [
      "MSE: 168012.21073914578\n",
      "RMSE: 409.892925944259\n"
     ]
    }
   ],
   "source": [
    "\n",
    "print(\"MSE:\", mse)\n",
    "print(\"RMSE:\", rmse)"
   ]
  },
  {
   "cell_type": "code",
   "execution_count": 184,
   "metadata": {},
   "outputs": [
    {
     "data": {
      "image/png": "[encoded data removed]",
      "text/plain": [
       "<Figure size 1000x600 with 1 Axes>"
      ]
     },
     "metadata": {},
     "output_type": "display_data"
    }
   ],
   "source": [
    "import matplotlib.pyplot as plt\n",
    "\n",
    "# Plot hasil prediksi (y_pred) dan data aktual (train_data['Open(t)'])\n",
    "plt.figure(figsize=(10, 6))\n",
    "plt.plot(validation_data.index, y_val_pred.squeeze(), label='Prediksi (y_pred)', color='red')\n",
    "plt.plot(validation_data.index, validation_data['Open(t)'], label='Data Aktual', color='blue')\n",
    "plt.xlabel('Tanggal')\n",
    "plt.ylabel('Nilai Open')\n",
    "plt.title('Prediksi vs Data Aktual')\n",
    "plt.legend()\n",
    "plt.show()\n"
   ]
  },
  {
   "cell_type": "code",
   "execution_count": null,
   "metadata": {},
   "outputs": [],
   "source": [
    "\n"
   ]
  },
  {
   "cell_type": "code",
   "execution_count": null,
   "metadata": {},
   "outputs": [],
   "source": []
  }
 ],
 "metadata": {
  "kernelspec": {
   "display_name": "base",
   "language": "python",
   "name": "python3"
  },
  "language_info": {
   "codemirror_mode": {
    "name": "ipython",
    "version": 3
   },
   "file_extension": ".py",
   "mimetype": "text/x-python",
   "name": "python",
   "nbconvert_exporter": "python",
   "pygments_lexer": "ipython3",
   "version": "3.11.5"
  }
 },
 "nbformat": 4,
 "nbformat_minor": 2
}
