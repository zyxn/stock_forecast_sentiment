{
 "cells": [
  {
   "cell_type": "code",
   "execution_count": 667,
   "metadata": {},
   "outputs": [],
   "source": [
    "# Modul Dasar\n",
    "import numpy as np               # Operasi matematika dan array\n",
    "import pandas as pd              # Struktur data tabular (DataFrame)\n",
    "import matplotlib.pyplot as plt  # Visualisasi data\n",
    "import seaborn as sns            # Visualisasi data tambahan\n",
    "\n",
    "# Statistik dan Machine Learning\n",
    "from scipy import stats          # Statistik\n",
    "from sklearn import datasets     # Datasets untuk machine learning\n",
    "from sklearn.model_selection import train_test_split  # Pembagian data train-test\n",
    "from sklearn.preprocessing import StandardScaler     # Normalisasi data\n",
    "from sklearn.linear_model import LinearRegression    # Regresi linear\n",
    "from sklearn.tree import DecisionTreeClassifier      # Klasifikasi menggunakan Decision Tree\n",
    "from sklearn.cluster import KMeans                    # KMeans clustering\n",
    "\n",
    "# Evaluasi Model\n",
    "from sklearn.metrics import accuracy_score, confusion_matrix, classification_report  # Evaluasi performa model\n",
    "\n",
    "# Visualisasi Machine Learning\n",
    "from sklearn.tree import plot_tree    # Visualisasi struktur Decision Tree\n",
    "from sklearn.metrics import roc_curve, auc  # Kurva ROC dan AUC\n",
    "\n",
    "\n",
    "from sklearn.preprocessing import MinMaxScaler\n",
    "from keras.models import Sequential\n",
    "from keras.layers import Dense\n",
    "from keras.layers import SimpleRNN\n",
    "from keras.layers import Dropout\n",
    "from keras.callbacks import EarlyStopping"
   ]
  },
  {
   "cell_type": "code",
   "execution_count": 668,
   "metadata": {},
   "outputs": [],
   "source": [
    "import numpy as np\n",
    "import tensorflow as tf\n",
    "\n",
    "# Set seed for numpy\n",
    "np.random.seed(42)\n",
    "\n",
    "# Set seed for TensorFlow\n",
    "tf.random.set_seed(42)\n"
   ]
  },
  {
   "cell_type": "code",
   "execution_count": 669,
   "metadata": {},
   "outputs": [
    {
     "data": {
      "text/html": [
       "<div>\n",
       "<style scoped>\n",
       "    .dataframe tbody tr th:only-of-type {\n",
       "        vertical-align: middle;\n",
       "    }\n",
       "\n",
       "    .dataframe tbody tr th {\n",
       "        vertical-align: top;\n",
       "    }\n",
       "\n",
       "    .dataframe thead th {\n",
       "        text-align: right;\n",
       "    }\n",
       "</style>\n",
       "<table border=\"1\" class=\"dataframe\">\n",
       "  <thead>\n",
       "    <tr style=\"text-align: right;\">\n",
       "      <th></th>\n",
       "      <th>Date</th>\n",
       "      <th>Open</th>\n",
       "      <th>High</th>\n",
       "      <th>Low</th>\n",
       "      <th>Close</th>\n",
       "      <th>Adj Close</th>\n",
       "      <th>Volume</th>\n",
       "    </tr>\n",
       "  </thead>\n",
       "  <tbody>\n",
       "    <tr>\n",
       "      <th>0</th>\n",
       "      <td>2019-04-23</td>\n",
       "      <td>6420.163086</td>\n",
       "      <td>6482.818848</td>\n",
       "      <td>6415.455078</td>\n",
       "      <td>6462.821777</td>\n",
       "      <td>6462.821777</td>\n",
       "      <td>105904400.0</td>\n",
       "    </tr>\n",
       "    <tr>\n",
       "      <th>1</th>\n",
       "      <td>2019-04-24</td>\n",
       "      <td>6460.265137</td>\n",
       "      <td>6472.527832</td>\n",
       "      <td>6433.972168</td>\n",
       "      <td>6447.884766</td>\n",
       "      <td>6447.884766</td>\n",
       "      <td>95981100.0</td>\n",
       "    </tr>\n",
       "    <tr>\n",
       "      <th>2</th>\n",
       "      <td>2019-04-25</td>\n",
       "      <td>6423.837891</td>\n",
       "      <td>6431.591797</td>\n",
       "      <td>6353.283203</td>\n",
       "      <td>6372.787109</td>\n",
       "      <td>6372.787109</td>\n",
       "      <td>95830800.0</td>\n",
       "    </tr>\n",
       "  </tbody>\n",
       "</table>\n",
       "</div>"
      ],
      "text/plain": [
       "         Date         Open         High          Low        Close  \\\n",
       "0  2019-04-23  6420.163086  6482.818848  6415.455078  6462.821777   \n",
       "1  2019-04-24  6460.265137  6472.527832  6433.972168  6447.884766   \n",
       "2  2019-04-25  6423.837891  6431.591797  6353.283203  6372.787109   \n",
       "\n",
       "     Adj Close       Volume  \n",
       "0  6462.821777  105904400.0  \n",
       "1  6447.884766   95981100.0  \n",
       "2  6372.787109   95830800.0  "
      ]
     },
     "execution_count": 669,
     "metadata": {},
     "output_type": "execute_result"
    }
   ],
   "source": [
    "# data = pd.read_csv(\"../data/external/ihsg 14-12-22 till 22-04-24.csv\")\n",
    "data = pd.read_csv(\"../data/external/5 tahun.csv\")\n",
    "# sentiment = pd.read_csv(\"../data/processed/preprocces-data.csv\")\n",
    "\n",
    "data.head(3)"
   ]
  },
  {
   "cell_type": "code",
   "execution_count": 670,
   "metadata": {},
   "outputs": [],
   "source": [
    "# sentiment\n",
    "\n",
    "\n",
    "# sentiment_mapping = {\"positive\": 0, \"negative\": 1, \"neutral\": 2}\n",
    "\n",
    "# data['Sentiment'] = sentiment['sentiment'].map(sentiment_mapping)"
   ]
  },
  {
   "cell_type": "code",
   "execution_count": 671,
   "metadata": {},
   "outputs": [
    {
     "data": {
      "text/html": [
       "<div>\n",
       "<style scoped>\n",
       "    .dataframe tbody tr th:only-of-type {\n",
       "        vertical-align: middle;\n",
       "    }\n",
       "\n",
       "    .dataframe tbody tr th {\n",
       "        vertical-align: top;\n",
       "    }\n",
       "\n",
       "    .dataframe thead th {\n",
       "        text-align: right;\n",
       "    }\n",
       "</style>\n",
       "<table border=\"1\" class=\"dataframe\">\n",
       "  <thead>\n",
       "    <tr style=\"text-align: right;\">\n",
       "      <th></th>\n",
       "      <th>Date</th>\n",
       "      <th>Open</th>\n",
       "      <th>High</th>\n",
       "      <th>Low</th>\n",
       "      <th>Close</th>\n",
       "      <th>Adj Close</th>\n",
       "      <th>Volume</th>\n",
       "    </tr>\n",
       "  </thead>\n",
       "  <tbody>\n",
       "    <tr>\n",
       "      <th>0</th>\n",
       "      <td>2019-04-23</td>\n",
       "      <td>6420.163086</td>\n",
       "      <td>6482.818848</td>\n",
       "      <td>6415.455078</td>\n",
       "      <td>6462.821777</td>\n",
       "      <td>6462.821777</td>\n",
       "      <td>105904400.0</td>\n",
       "    </tr>\n",
       "    <tr>\n",
       "      <th>1</th>\n",
       "      <td>2019-04-24</td>\n",
       "      <td>6460.265137</td>\n",
       "      <td>6472.527832</td>\n",
       "      <td>6433.972168</td>\n",
       "      <td>6447.884766</td>\n",
       "      <td>6447.884766</td>\n",
       "      <td>95981100.0</td>\n",
       "    </tr>\n",
       "    <tr>\n",
       "      <th>2</th>\n",
       "      <td>2019-04-25</td>\n",
       "      <td>6423.837891</td>\n",
       "      <td>6431.591797</td>\n",
       "      <td>6353.283203</td>\n",
       "      <td>6372.787109</td>\n",
       "      <td>6372.787109</td>\n",
       "      <td>95830800.0</td>\n",
       "    </tr>\n",
       "  </tbody>\n",
       "</table>\n",
       "</div>"
      ],
      "text/plain": [
       "         Date         Open         High          Low        Close  \\\n",
       "0  2019-04-23  6420.163086  6482.818848  6415.455078  6462.821777   \n",
       "1  2019-04-24  6460.265137  6472.527832  6433.972168  6447.884766   \n",
       "2  2019-04-25  6423.837891  6431.591797  6353.283203  6372.787109   \n",
       "\n",
       "     Adj Close       Volume  \n",
       "0  6462.821777  105904400.0  \n",
       "1  6447.884766   95981100.0  \n",
       "2  6372.787109   95830800.0  "
      ]
     },
     "execution_count": 671,
     "metadata": {},
     "output_type": "execute_result"
    }
   ],
   "source": [
    "data.head(3)"
   ]
  },
  {
   "cell_type": "code",
   "execution_count": 672,
   "metadata": {},
   "outputs": [],
   "source": [
    "lengh_data = len(data)\n",
    "split_ratio = 0.8\n",
    "lengh_train = round(lengh_data * split_ratio)\n",
    "lengh_validation = lengh_data -lengh_train"
   ]
  },
  {
   "cell_type": "code",
   "execution_count": 673,
   "metadata": {},
   "outputs": [],
   "source": [
    "data = data.drop([\"Volume\"],axis=1)\n",
    "data['Date'] = pd.to_datetime(data['Date'])\n",
    "data = data.set_index(\"Date\")\n",
    "\n",
    "#hai widha"
   ]
  },
  {
   "cell_type": "code",
   "execution_count": 674,
   "metadata": {},
   "outputs": [],
   "source": [
    "def time_series_to_supervised(data, n_in=1, n_out=1, dropnan=True, var_names=None):\n",
    "    \"\"\"\n",
    "    Mengubah data time series menjadi data supervised learning.\n",
    "\n",
    "    Argumen:\n",
    "    data: DataFrame, dataset time series yang akan diubah.\n",
    "    n_in: int, jumlah timestep mundur sebagai input (X).\n",
    "    n_out: int, jumlah timestep maju sebagai output (y).\n",
    "    dropnan: bool, apakah akan menghapus baris dengan nilai NaN.\n",
    "    var_names: list of str, nama variabel untuk setiap kolom.\n",
    "\n",
    "    Returns:\n",
    "    DataFrame yang sudah diubah menjadi format supervised learning.\n",
    "    \"\"\"\n",
    "    n_vars = 1 if type(data) is list else data.shape[1]\n",
    "    df = pd.DataFrame(data)\n",
    "    cols, names = [], []\n",
    "    \n",
    "    # Input sequence (t-n, ... t-1)\n",
    "    for i in range(n_in, 0, -1):\n",
    "        cols.append(df.shift(i))\n",
    "        if var_names is None:\n",
    "            names += [('var%d(t-%d)' % (j+1, i)) for j in range(n_vars)]\n",
    "        else:\n",
    "            names += [(var_names[j] + '(t-%d)' % i) for j in range(n_vars)]\n",
    "    \n",
    "    # Output sequence (t, t+1, ... t+n)\n",
    "    for i in range(0, n_out):\n",
    "        cols.append(df.shift(-i))\n",
    "        if i == 0:\n",
    "            if var_names is None:\n",
    "                names += [('var%d(t)' % (j+1)) for j in range(n_vars)]\n",
    "            else:\n",
    "                names += [(var_names[j] + '(t)') for j in range(n_vars)]\n",
    "        else:\n",
    "            if var_names is None:\n",
    "                names += [('var%d(t+%d)' % (j+1, i)) for j in range(n_vars)]\n",
    "            else:\n",
    "                names += [(var_names[j] + '(t+%d)' % i) for j in range(n_vars)]\n",
    "    \n",
    "    # Concatenate semua kolom\n",
    "    agg = pd.concat(cols, axis=1)\n",
    "    agg.columns = names\n",
    "    \n",
    "    # Hapus baris dengan nilai NaN\n",
    "    if dropnan:\n",
    "        agg.dropna(inplace=True)\n",
    "    \n",
    "    return agg\n",
    "\n",
    "# Contoh penggunaan:\n",
    "# Misalkan 'data' adalah DataFrame yang berisi data time series\n",
    "# dengan tiga fitur, dan kita ingin menggunakan 3 timestep mundur sebagai input\n",
    "# dan 1 timestep maju sebagai output, dan nama variabel untuk setiap fitur adalah\n",
    "# 'A', 'B', dan 'C'\n",
    "\n",
    "var_names = data.columns\n",
    "data_supervised = time_series_to_supervised(data, n_in=5, n_out=1, var_names=var_names)\n"
   ]
  },
  {
   "cell_type": "code",
   "execution_count": 675,
   "metadata": {},
   "outputs": [],
   "source": [
    "train_data = data_supervised[:lengh_train]\n",
    "validation_data = data_supervised[lengh_train:]"
   ]
  },
  {
   "cell_type": "code",
   "execution_count": 676,
   "metadata": {},
   "outputs": [],
   "source": [
    "from sklearn.preprocessing import MinMaxScaler\n",
    "\n",
    "# Inisialisasi MinMaxScaler\n",
    "scaler = MinMaxScaler()\n",
    "\n",
    "# Normalisasi data train\n",
    "scaled_train_data = scaler.fit_transform(train_data)\n",
    "\n",
    "# Konversi data yang telah dinormalisasi kembali ke dalam DataFrame\n",
    "scaled_train_data = pd.DataFrame(scaled_train_data, columns=train_data.columns)\n",
    "\n"
   ]
  },
  {
   "cell_type": "code",
   "execution_count": 677,
   "metadata": {},
   "outputs": [],
   "source": [
    "y_train_scaled = scaled_train_data[[\"Open(t)\"]]  # Ambil kolom Open(t) sebagai target\n",
    "# X_train_scaled = scaled_train_data.drop([\"Open(t)\", \"Close(t)\", \"High(t)\", \"Low(t)\", \"Adj Close(t)\",\"Sentiment(t)\"], axis=1)\n",
    "X_train_scaled = scaled_train_data.drop([\"Open(t)\", \"Close(t)\", \"High(t)\", \"Low(t)\", \"Adj Close(t)\",], axis=1)"
   ]
  },
  {
   "cell_type": "code",
   "execution_count": 678,
   "metadata": {},
   "outputs": [
    {
     "name": "stdout",
     "output_type": "stream",
     "text": [
      "<class 'pandas.core.frame.DataFrame'>\n",
      "RangeIndex: 977 entries, 0 to 976\n",
      "Data columns (total 25 columns):\n",
      " #   Column          Non-Null Count  Dtype  \n",
      "---  ------          --------------  -----  \n",
      " 0   Open(t-5)       977 non-null    float64\n",
      " 1   High(t-5)       977 non-null    float64\n",
      " 2   Low(t-5)        977 non-null    float64\n",
      " 3   Close(t-5)      977 non-null    float64\n",
      " 4   Adj Close(t-5)  977 non-null    float64\n",
      " 5   Open(t-4)       977 non-null    float64\n",
      " 6   High(t-4)       977 non-null    float64\n",
      " 7   Low(t-4)        977 non-null    float64\n",
      " 8   Close(t-4)      977 non-null    float64\n",
      " 9   Adj Close(t-4)  977 non-null    float64\n",
      " 10  Open(t-3)       977 non-null    float64\n",
      " 11  High(t-3)       977 non-null    float64\n",
      " 12  Low(t-3)        977 non-null    float64\n",
      " 13  Close(t-3)      977 non-null    float64\n",
      " 14  Adj Close(t-3)  977 non-null    float64\n",
      " 15  Open(t-2)       977 non-null    float64\n",
      " 16  High(t-2)       977 non-null    float64\n",
      " 17  Low(t-2)        977 non-null    float64\n",
      " 18  Close(t-2)      977 non-null    float64\n",
      " 19  Adj Close(t-2)  977 non-null    float64\n",
      " 20  Open(t-1)       977 non-null    float64\n",
      " 21  High(t-1)       977 non-null    float64\n",
      " 22  Low(t-1)        977 non-null    float64\n",
      " 23  Close(t-1)      977 non-null    float64\n",
      " 24  Adj Close(t-1)  977 non-null    float64\n",
      "dtypes: float64(25)\n",
      "memory usage: 190.9 KB\n"
     ]
    }
   ],
   "source": [
    "X_train_scaled.info()"
   ]
  },
  {
   "cell_type": "code",
   "execution_count": 679,
   "metadata": {},
   "outputs": [
    {
     "name": "stdout",
     "output_type": "stream",
     "text": [
      "<class 'pandas.core.frame.DataFrame'>\n",
      "RangeIndex: 977 entries, 0 to 976\n",
      "Data columns (total 1 columns):\n",
      " #   Column   Non-Null Count  Dtype  \n",
      "---  ------   --------------  -----  \n",
      " 0   Open(t)  977 non-null    float64\n",
      "dtypes: float64(1)\n",
      "memory usage: 7.8 KB\n"
     ]
    }
   ],
   "source": [
    "y_train_scaled.info()"
   ]
  },
  {
   "cell_type": "code",
   "execution_count": 680,
   "metadata": {},
   "outputs": [
    {
     "name": "stdout",
     "output_type": "stream",
     "text": [
      "(977, 4, 6)\n"
     ]
    }
   ],
   "source": [
    "# Misalnya, Anda memiliki 3 langkah waktu dan 5 fitur\n",
    "timesteps = 4\n",
    "features = 6\n",
    "X_train = []\n",
    "for i in range(timesteps):\n",
    "    X_train.append(X_train_scaled.iloc[:, i*features:(i+1)*features].values)\n",
    "\n",
    "# Ubah list menjadi array numpy\n",
    "X_train = np.array(X_train)\n",
    "X_train = X_train.transpose(1, 0, 2)\n",
    "# Bentuknya menjadi (jumlah_sampel, timestep, feature)\n",
    "print(X_train.shape)"
   ]
  },
  {
   "cell_type": "code",
   "execution_count": 681,
   "metadata": {},
   "outputs": [
    {
     "name": "stdout",
     "output_type": "stream",
     "text": [
      "(221, 4, 6)\n"
     ]
    }
   ],
   "source": [
    "scaled_val_data = scaler.fit_transform(validation_data)\n",
    "\n",
    "# Konversi data yang telah dinormalisasi kembali ke dalam DataFrame\n",
    "scaled_val_data = pd.DataFrame(scaled_val_data, columns=validation_data.columns)\n",
    "\n",
    "y_val_scaled = scaled_val_data[[\"Open(t)\"]]  # Ambil kolom Open(t) sebagai target\n",
    "# X_val_scaled = scaled_val_data.drop([\"Open(t)\", \"Close(t)\", \"High(t)\", \"Low(t)\", \"Adj Close(t)\",\"Sentiment(t)\"], axis=1)\n",
    "X_val_scaled = scaled_val_data.drop([\"Open(t)\", \"Close(t)\", \"High(t)\", \"Low(t)\", \"Adj Close(t)\"], axis=1)\n",
    "\n",
    "\n",
    "X_val = []\n",
    "for i in range(timesteps):\n",
    "    X_val.append(X_val_scaled.iloc[:, i*features:(i+1)*features].values)\n",
    "\n",
    "# Ubah list menjadi array numpy\n",
    "X_val = np.array(X_val)\n",
    "X_val = X_val.transpose(1, 0, 2)\n",
    "# Bentuknya menjadi (jumlah_sampel, timestep, feature)\n",
    "print(X_val.shape)"
   ]
  },
  {
   "cell_type": "code",
   "execution_count": 682,
   "metadata": {},
   "outputs": [],
   "source": [
    "from keras.layers import LSTM\n",
    "from keras.layers import Bidirectional\n",
    "from keras.optimizers import Nadam\n",
    "from keras.layers import Activation\n",
    "\n",
    "# Definisi model LSTM\n",
    "model_lstm = Sequential()\n",
    "# model_lstm.add(Bidirectional(LSTM(128, activation='swish', return_sequences=True, input_shape=(X_train.shape[1], X_train.shape[2]))))\n",
    "model_lstm.add(LSTM(128, activation='swish', input_shape=(X_train.shape[1], X_train.shape[2])))\n",
    "model_lstm.add(Dropout(0.2))\n",
    "# model_lstm.add(LSTM(128, activation='swish', return_sequences=False))\n",
    "model_lstm.add(Dense(128,Activation('swish')))\n",
    "model_lstm.add(Dense(1))\n",
    "\n",
    "# Mengubah optimizer menjadi Nadam dengan learning rate 0.01\n",
    "opt = Nadam(learning_rate=0.001)\n",
    "\n",
    "\n",
    "# Menampilkan ringkasan model"
   ]
  },
  {
   "cell_type": "code",
   "execution_count": 683,
   "metadata": {},
   "outputs": [],
   "source": [
    "from keras.metrics import RootMeanSquaredError\n",
    "early_stopping = EarlyStopping(monitor='val_loss', patience=20, verbose=1, restore_best_weights=True)\n",
    "\n",
    "# Compile model dengan optimizer yang telah diperbarui dan loss function RMSE\n",
    "model_lstm.compile(optimizer=opt, loss='mse', metrics=[RootMeanSquaredError()])\n",
    "\n"
   ]
  },
  {
   "cell_type": "code",
   "execution_count": 684,
   "metadata": {},
   "outputs": [
    {
     "name": "stdout",
     "output_type": "stream",
     "text": [
      "Epoch 1/100\n",
      "62/62 [==============================] - 4s 12ms/step - loss: 38039400.0000 - root_mean_squared_error: 6167.6089 - val_loss: 40431620.0000 - val_root_mean_squared_error: 6358.5864\n",
      "Epoch 2/100\n",
      "62/62 [==============================] - 0s 6ms/step - loss: 6621962.5000 - root_mean_squared_error: 2573.3174 - val_loss: 18787992.0000 - val_root_mean_squared_error: 4334.5117\n",
      "Epoch 3/100\n",
      "62/62 [==============================] - 0s 6ms/step - loss: 3252449.7500 - root_mean_squared_error: 1803.4550 - val_loss: 15868078.0000 - val_root_mean_squared_error: 3983.4756\n",
      "Epoch 4/100\n",
      "62/62 [==============================] - 0s 6ms/step - loss: 2130500.2500 - root_mean_squared_error: 1459.6233 - val_loss: 12400981.0000 - val_root_mean_squared_error: 3521.5027\n",
      "Epoch 5/100\n",
      "62/62 [==============================] - 0s 6ms/step - loss: 1328208.0000 - root_mean_squared_error: 1152.4791 - val_loss: 9301786.0000 - val_root_mean_squared_error: 3049.8831\n",
      "Epoch 6/100\n",
      "62/62 [==============================] - 0s 6ms/step - loss: 773833.3750 - root_mean_squared_error: 879.6780 - val_loss: 7294383.0000 - val_root_mean_squared_error: 2700.8115\n",
      "Epoch 7/100\n",
      "62/62 [==============================] - 0s 6ms/step - loss: 464405.2500 - root_mean_squared_error: 681.4728 - val_loss: 6118809.0000 - val_root_mean_squared_error: 2473.6226\n",
      "Epoch 8/100\n",
      "62/62 [==============================] - 0s 6ms/step - loss: 312514.2500 - root_mean_squared_error: 559.0297 - val_loss: 4921012.0000 - val_root_mean_squared_error: 2218.3354\n",
      "Epoch 9/100\n",
      "62/62 [==============================] - 0s 5ms/step - loss: 254972.7812 - root_mean_squared_error: 504.9483 - val_loss: 4451338.0000 - val_root_mean_squared_error: 2109.8193\n",
      "Epoch 10/100\n",
      "62/62 [==============================] - 0s 6ms/step - loss: 260428.2344 - root_mean_squared_error: 510.3217 - val_loss: 3939388.0000 - val_root_mean_squared_error: 1984.7892\n",
      "Epoch 11/100\n",
      "62/62 [==============================] - 0s 6ms/step - loss: 236424.7500 - root_mean_squared_error: 486.2353 - val_loss: 3821431.2500 - val_root_mean_squared_error: 1954.8481\n",
      "Epoch 12/100\n",
      "62/62 [==============================] - 0s 6ms/step - loss: 255613.0156 - root_mean_squared_error: 505.5818 - val_loss: 3881980.7500 - val_root_mean_squared_error: 1970.2743\n",
      "Epoch 13/100\n",
      "62/62 [==============================] - 0s 6ms/step - loss: 246945.0156 - root_mean_squared_error: 496.9356 - val_loss: 3841222.0000 - val_root_mean_squared_error: 1959.9036\n",
      "Epoch 14/100\n",
      "62/62 [==============================] - 0s 6ms/step - loss: 234397.0469 - root_mean_squared_error: 484.1457 - val_loss: 3534321.2500 - val_root_mean_squared_error: 1879.9790\n",
      "Epoch 15/100\n",
      "62/62 [==============================] - 0s 6ms/step - loss: 240009.5000 - root_mean_squared_error: 489.9077 - val_loss: 3381060.2500 - val_root_mean_squared_error: 1838.7660\n",
      "Epoch 16/100\n",
      "62/62 [==============================] - 0s 6ms/step - loss: 214834.5781 - root_mean_squared_error: 463.5025 - val_loss: 3867942.5000 - val_root_mean_squared_error: 1966.7085\n",
      "Epoch 17/100\n",
      "62/62 [==============================] - 0s 6ms/step - loss: 206255.0469 - root_mean_squared_error: 454.1531 - val_loss: 3439814.7500 - val_root_mean_squared_error: 1854.6737\n",
      "Epoch 18/100\n",
      "62/62 [==============================] - 0s 6ms/step - loss: 209434.2656 - root_mean_squared_error: 457.6399 - val_loss: 3490362.0000 - val_root_mean_squared_error: 1868.2511\n",
      "Epoch 19/100\n",
      "62/62 [==============================] - 0s 6ms/step - loss: 213432.6719 - root_mean_squared_error: 461.9877 - val_loss: 3233157.2500 - val_root_mean_squared_error: 1798.0983\n",
      "Epoch 20/100\n",
      "62/62 [==============================] - 0s 6ms/step - loss: 208989.0156 - root_mean_squared_error: 457.1532 - val_loss: 3577473.2500 - val_root_mean_squared_error: 1891.4210\n",
      "Epoch 21/100\n",
      "62/62 [==============================] - 0s 7ms/step - loss: 214721.8281 - root_mean_squared_error: 463.3809 - val_loss: 3336347.2500 - val_root_mean_squared_error: 1826.5670\n",
      "Epoch 22/100\n",
      "62/62 [==============================] - 0s 7ms/step - loss: 197431.8906 - root_mean_squared_error: 444.3331 - val_loss: 3347858.2500 - val_root_mean_squared_error: 1829.7153\n",
      "Epoch 23/100\n",
      "62/62 [==============================] - 0s 6ms/step - loss: 204097.4531 - root_mean_squared_error: 451.7715 - val_loss: 3124972.2500 - val_root_mean_squared_error: 1767.7592\n",
      "Epoch 24/100\n",
      "62/62 [==============================] - 0s 6ms/step - loss: 192501.2344 - root_mean_squared_error: 438.7496 - val_loss: 3434744.2500 - val_root_mean_squared_error: 1853.3063\n",
      "Epoch 25/100\n",
      "62/62 [==============================] - 0s 6ms/step - loss: 200277.7812 - root_mean_squared_error: 447.5240 - val_loss: 3496197.5000 - val_root_mean_squared_error: 1869.8121\n",
      "Epoch 26/100\n",
      "62/62 [==============================] - 0s 6ms/step - loss: 195590.8906 - root_mean_squared_error: 442.2566 - val_loss: 3099877.2500 - val_root_mean_squared_error: 1760.6469\n",
      "Epoch 27/100\n",
      "62/62 [==============================] - 0s 6ms/step - loss: 194053.1562 - root_mean_squared_error: 440.5146 - val_loss: 3228705.2500 - val_root_mean_squared_error: 1796.8599\n",
      "Epoch 28/100\n",
      "62/62 [==============================] - 0s 7ms/step - loss: 218443.8281 - root_mean_squared_error: 467.3798 - val_loss: 3427331.2500 - val_root_mean_squared_error: 1851.3053\n",
      "Epoch 29/100\n",
      "62/62 [==============================] - 0s 6ms/step - loss: 194433.4531 - root_mean_squared_error: 440.9461 - val_loss: 3749993.0000 - val_root_mean_squared_error: 1936.4899\n",
      "Epoch 30/100\n",
      "62/62 [==============================] - 0s 6ms/step - loss: 204805.2500 - root_mean_squared_error: 452.5541 - val_loss: 3242870.5000 - val_root_mean_squared_error: 1800.7972\n",
      "Epoch 31/100\n",
      "62/62 [==============================] - 0s 6ms/step - loss: 196756.2344 - root_mean_squared_error: 443.5721 - val_loss: 3119481.7500 - val_root_mean_squared_error: 1766.2054\n",
      "Epoch 32/100\n",
      "62/62 [==============================] - 0s 6ms/step - loss: 173515.1406 - root_mean_squared_error: 416.5515 - val_loss: 3234578.7500 - val_root_mean_squared_error: 1798.4934\n",
      "Epoch 33/100\n",
      "62/62 [==============================] - 0s 6ms/step - loss: 194084.9062 - root_mean_squared_error: 440.5507 - val_loss: 3802046.5000 - val_root_mean_squared_error: 1949.8837\n",
      "Epoch 34/100\n",
      "62/62 [==============================] - 0s 6ms/step - loss: 206828.2812 - root_mean_squared_error: 454.7838 - val_loss: 3294469.0000 - val_root_mean_squared_error: 1815.0673\n",
      "Epoch 35/100\n",
      "62/62 [==============================] - 0s 6ms/step - loss: 182736.6719 - root_mean_squared_error: 427.4771 - val_loss: 2652475.2500 - val_root_mean_squared_error: 1628.6421\n",
      "Epoch 36/100\n",
      "62/62 [==============================] - 0s 6ms/step - loss: 198981.6406 - root_mean_squared_error: 446.0736 - val_loss: 2630723.5000 - val_root_mean_squared_error: 1621.9506\n",
      "Epoch 37/100\n",
      "62/62 [==============================] - 0s 6ms/step - loss: 217690.4844 - root_mean_squared_error: 466.5731 - val_loss: 3009980.7500 - val_root_mean_squared_error: 1734.9296\n",
      "Epoch 38/100\n",
      "62/62 [==============================] - 0s 6ms/step - loss: 209151.0156 - root_mean_squared_error: 457.3303 - val_loss: 3129103.0000 - val_root_mean_squared_error: 1768.9271\n",
      "Epoch 39/100\n",
      "62/62 [==============================] - 0s 6ms/step - loss: 177335.3906 - root_mean_squared_error: 421.1121 - val_loss: 2979554.5000 - val_root_mean_squared_error: 1726.1385\n",
      "Epoch 40/100\n",
      "62/62 [==============================] - 0s 5ms/step - loss: 192765.6719 - root_mean_squared_error: 439.0509 - val_loss: 2903343.0000 - val_root_mean_squared_error: 1703.9199\n",
      "Epoch 41/100\n",
      "62/62 [==============================] - 0s 6ms/step - loss: 191712.0625 - root_mean_squared_error: 437.8494 - val_loss: 2754278.7500 - val_root_mean_squared_error: 1659.6019\n",
      "Epoch 42/100\n",
      "62/62 [==============================] - 0s 6ms/step - loss: 184939.0312 - root_mean_squared_error: 430.0454 - val_loss: 2958270.2500 - val_root_mean_squared_error: 1719.9623\n",
      "Epoch 43/100\n",
      "62/62 [==============================] - 0s 6ms/step - loss: 202522.0938 - root_mean_squared_error: 450.0245 - val_loss: 3914030.2500 - val_root_mean_squared_error: 1978.3909\n",
      "Epoch 44/100\n",
      "62/62 [==============================] - 0s 7ms/step - loss: 199809.7812 - root_mean_squared_error: 447.0009 - val_loss: 3040619.5000 - val_root_mean_squared_error: 1743.7372\n",
      "Epoch 45/100\n",
      "62/62 [==============================] - 0s 6ms/step - loss: 189117.9219 - root_mean_squared_error: 434.8769 - val_loss: 3202602.5000 - val_root_mean_squared_error: 1789.5817\n",
      "Epoch 46/100\n",
      "62/62 [==============================] - 0s 6ms/step - loss: 208310.0000 - root_mean_squared_error: 456.4099 - val_loss: 2649450.5000 - val_root_mean_squared_error: 1627.7133\n",
      "Epoch 47/100\n",
      "62/62 [==============================] - 0s 6ms/step - loss: 175643.6406 - root_mean_squared_error: 419.0986 - val_loss: 2973002.2500 - val_root_mean_squared_error: 1724.2396\n",
      "Epoch 48/100\n",
      "62/62 [==============================] - 0s 6ms/step - loss: 200538.5625 - root_mean_squared_error: 447.8153 - val_loss: 2644801.7500 - val_root_mean_squared_error: 1626.2847\n",
      "Epoch 49/100\n",
      "62/62 [==============================] - 0s 6ms/step - loss: 186728.0781 - root_mean_squared_error: 432.1205 - val_loss: 2782027.5000 - val_root_mean_squared_error: 1667.9410\n",
      "Epoch 50/100\n",
      "62/62 [==============================] - 0s 6ms/step - loss: 183567.0156 - root_mean_squared_error: 428.4472 - val_loss: 3215026.7500 - val_root_mean_squared_error: 1793.0496\n",
      "Epoch 51/100\n",
      "62/62 [==============================] - 1s 10ms/step - loss: 183731.3750 - root_mean_squared_error: 428.6390 - val_loss: 3103471.0000 - val_root_mean_squared_error: 1761.6671\n",
      "Epoch 52/100\n",
      "62/62 [==============================] - 0s 7ms/step - loss: 208919.5312 - root_mean_squared_error: 457.0771 - val_loss: 2626020.0000 - val_root_mean_squared_error: 1620.4999\n",
      "Epoch 53/100\n",
      "62/62 [==============================] - 0s 7ms/step - loss: 179222.0781 - root_mean_squared_error: 423.3463 - val_loss: 2834332.7500 - val_root_mean_squared_error: 1683.5476\n",
      "Epoch 54/100\n",
      "62/62 [==============================] - 1s 10ms/step - loss: 184278.0000 - root_mean_squared_error: 429.2761 - val_loss: 2845031.5000 - val_root_mean_squared_error: 1686.7222\n",
      "Epoch 55/100\n",
      "62/62 [==============================] - 1s 11ms/step - loss: 172950.0469 - root_mean_squared_error: 415.8726 - val_loss: 2799684.0000 - val_root_mean_squared_error: 1673.2256\n",
      "Epoch 56/100\n",
      "62/62 [==============================] - 1s 9ms/step - loss: 186752.5781 - root_mean_squared_error: 432.1488 - val_loss: 2526777.2500 - val_root_mean_squared_error: 1589.5840\n",
      "Epoch 57/100\n",
      "62/62 [==============================] - 0s 7ms/step - loss: 187838.2500 - root_mean_squared_error: 433.4031 - val_loss: 2593940.5000 - val_root_mean_squared_error: 1610.5715\n",
      "Epoch 58/100\n",
      "62/62 [==============================] - 0s 6ms/step - loss: 198275.1406 - root_mean_squared_error: 445.2810 - val_loss: 3152815.5000 - val_root_mean_squared_error: 1775.6169\n",
      "Epoch 59/100\n",
      "62/62 [==============================] - 0s 6ms/step - loss: 181599.5781 - root_mean_squared_error: 426.1450 - val_loss: 3473770.7500 - val_root_mean_squared_error: 1863.8054\n",
      "Epoch 60/100\n",
      "62/62 [==============================] - 0s 6ms/step - loss: 192474.5312 - root_mean_squared_error: 438.7192 - val_loss: 3389285.2500 - val_root_mean_squared_error: 1841.0011\n",
      "Epoch 61/100\n",
      "62/62 [==============================] - 0s 6ms/step - loss: 205747.0781 - root_mean_squared_error: 453.5935 - val_loss: 2714425.0000 - val_root_mean_squared_error: 1647.5513\n",
      "Epoch 62/100\n",
      "62/62 [==============================] - 0s 6ms/step - loss: 199744.0781 - root_mean_squared_error: 446.9274 - val_loss: 3457768.7500 - val_root_mean_squared_error: 1859.5077\n",
      "Epoch 63/100\n",
      "62/62 [==============================] - 0s 6ms/step - loss: 192974.0469 - root_mean_squared_error: 439.2881 - val_loss: 3505383.0000 - val_root_mean_squared_error: 1872.2668\n",
      "Epoch 64/100\n",
      "62/62 [==============================] - 0s 6ms/step - loss: 187721.0938 - root_mean_squared_error: 433.2679 - val_loss: 2166742.2500 - val_root_mean_squared_error: 1471.9858\n",
      "Epoch 65/100\n",
      "62/62 [==============================] - 0s 8ms/step - loss: 199508.2656 - root_mean_squared_error: 446.6635 - val_loss: 2776651.2500 - val_root_mean_squared_error: 1666.3286\n",
      "Epoch 66/100\n",
      "62/62 [==============================] - 0s 8ms/step - loss: 192358.2188 - root_mean_squared_error: 438.5866 - val_loss: 2868615.0000 - val_root_mean_squared_error: 1693.6986\n",
      "Epoch 67/100\n",
      "62/62 [==============================] - 1s 11ms/step - loss: 190230.7031 - root_mean_squared_error: 436.1544 - val_loss: 3226963.0000 - val_root_mean_squared_error: 1796.3750\n",
      "Epoch 68/100\n",
      "62/62 [==============================] - 0s 8ms/step - loss: 190798.4219 - root_mean_squared_error: 436.8048 - val_loss: 2422108.5000 - val_root_mean_squared_error: 1556.3125\n",
      "Epoch 69/100\n",
      "62/62 [==============================] - 1s 10ms/step - loss: 194658.7344 - root_mean_squared_error: 441.2015 - val_loss: 2597808.7500 - val_root_mean_squared_error: 1611.7720\n",
      "Epoch 70/100\n",
      "62/62 [==============================] - 1s 8ms/step - loss: 196390.6250 - root_mean_squared_error: 443.1598 - val_loss: 3274288.7500 - val_root_mean_squared_error: 1809.4996\n",
      "Epoch 71/100\n",
      "62/62 [==============================] - 0s 7ms/step - loss: 207190.8125 - root_mean_squared_error: 455.1822 - val_loss: 2755830.7500 - val_root_mean_squared_error: 1660.0695\n",
      "Epoch 72/100\n",
      "62/62 [==============================] - 0s 8ms/step - loss: 189830.4844 - root_mean_squared_error: 435.6954 - val_loss: 2604463.5000 - val_root_mean_squared_error: 1613.8351\n",
      "Epoch 73/100\n",
      "62/62 [==============================] - 0s 6ms/step - loss: 188660.5625 - root_mean_squared_error: 434.3507 - val_loss: 3360147.5000 - val_root_mean_squared_error: 1833.0706\n",
      "Epoch 74/100\n",
      "62/62 [==============================] - 0s 6ms/step - loss: 179221.4062 - root_mean_squared_error: 423.3455 - val_loss: 2544952.7500 - val_root_mean_squared_error: 1595.2908\n",
      "Epoch 75/100\n",
      "62/62 [==============================] - 0s 7ms/step - loss: 190619.5938 - root_mean_squared_error: 436.6000 - val_loss: 3086953.0000 - val_root_mean_squared_error: 1756.9727\n",
      "Epoch 76/100\n",
      "62/62 [==============================] - 0s 6ms/step - loss: 194310.0156 - root_mean_squared_error: 440.8061 - val_loss: 2806416.0000 - val_root_mean_squared_error: 1675.2361\n",
      "Epoch 77/100\n",
      "62/62 [==============================] - 0s 6ms/step - loss: 187328.7656 - root_mean_squared_error: 432.8149 - val_loss: 2855009.2500 - val_root_mean_squared_error: 1689.6772\n",
      "Epoch 78/100\n",
      "62/62 [==============================] - 0s 7ms/step - loss: 185417.9844 - root_mean_squared_error: 430.6019 - val_loss: 3036922.2500 - val_root_mean_squared_error: 1742.6768\n",
      "Epoch 79/100\n",
      "62/62 [==============================] - 0s 6ms/step - loss: 199665.2656 - root_mean_squared_error: 446.8392 - val_loss: 2999138.2500 - val_root_mean_squared_error: 1731.8020\n",
      "Epoch 80/100\n",
      "62/62 [==============================] - 0s 6ms/step - loss: 185684.9219 - root_mean_squared_error: 430.9117 - val_loss: 3044798.7500 - val_root_mean_squared_error: 1744.9352\n",
      "Epoch 81/100\n",
      "62/62 [==============================] - 0s 6ms/step - loss: 187247.4062 - root_mean_squared_error: 432.7209 - val_loss: 3415661.0000 - val_root_mean_squared_error: 1848.1508\n",
      "Epoch 82/100\n",
      "62/62 [==============================] - 0s 6ms/step - loss: 204919.6250 - root_mean_squared_error: 452.6805 - val_loss: 2896279.5000 - val_root_mean_squared_error: 1701.8459\n",
      "Epoch 83/100\n",
      "62/62 [==============================] - 0s 6ms/step - loss: 192028.1406 - root_mean_squared_error: 438.2101 - val_loss: 2655797.0000 - val_root_mean_squared_error: 1629.6616\n",
      "Epoch 84/100\n",
      "57/62 [==========================>...] - ETA: 0s - loss: 176684.0625 - root_mean_squared_error: 420.3380Restoring model weights from the end of the best epoch: 64.\n",
      "62/62 [==============================] - 0s 7ms/step - loss: 174414.1562 - root_mean_squared_error: 417.6292 - val_loss: 3255954.7500 - val_root_mean_squared_error: 1804.4264\n",
      "Epoch 84: early stopping\n"
     ]
    }
   ],
   "source": [
    "hist = model_lstm.fit(X_train, train_data['Open(t)'], \n",
    "                      epochs=100, \n",
    "                      batch_size=16,\n",
    "                      validation_data=(X_val, validation_data['Open(t)']),\n",
    "                      callbacks=[early_stopping])"
   ]
  },
  {
   "cell_type": "code",
   "execution_count": 685,
   "metadata": {},
   "outputs": [
    {
     "name": "stdout",
     "output_type": "stream",
     "text": [
      "Model: \"sequential_22\"\n",
      "_________________________________________________________________\n",
      " Layer (type)                Output Shape              Param #   \n",
      "=================================================================\n",
      " lstm_38 (LSTM)              (None, 128)               69120     \n",
      "                                                                 \n",
      " dropout_22 (Dropout)        (None, 128)               0         \n",
      "                                                                 \n",
      " dense_44 (Dense)            (None, 128)               16512     \n",
      "                                                                 \n",
      " dense_45 (Dense)            (None, 1)                 129       \n",
      "                                                                 \n",
      "=================================================================\n",
      "Total params: 85761 (335.00 KB)\n",
      "Trainable params: 85761 (335.00 KB)\n",
      "Non-trainable params: 0 (0.00 Byte)\n",
      "_________________________________________________________________\n"
     ]
    }
   ],
   "source": [
    "model_lstm.summary()"
   ]
  },
  {
   "cell_type": "code",
   "execution_count": 686,
   "metadata": {},
   "outputs": [
    {
     "name": "stdout",
     "output_type": "stream",
     "text": [
      "31/31 [==============================] - 0s 3ms/step\n"
     ]
    }
   ],
   "source": [
    "y_pred = model_lstm.predict(X_train)"
   ]
  },
  {
   "cell_type": "code",
   "execution_count": 687,
   "metadata": {},
   "outputs": [
    {
     "data": {
      "text/plain": [
       "(977, 1)"
      ]
     },
     "execution_count": 687,
     "metadata": {},
     "output_type": "execute_result"
    }
   ],
   "source": [
    "y_pred.shape"
   ]
  },
  {
   "cell_type": "code",
   "execution_count": 688,
   "metadata": {},
   "outputs": [
    {
     "data": {
      "text/plain": [
       "array([6728.196 , 6625.7583, 6575.1025, 6558.19  , 6551.8315, 6521.0815,\n",
       "       6492.6997, 6449.849 , 6393.578 , 6323.4316, 6262.4614, 6212.2236,\n",
       "       6204.6514, 6234.1   , 6273.2812, 6303.1343, 6580.6157, 6572.4883,\n",
       "       6563.7065, 6552.265 , 6536.648 , 6547.67  , 6588.8374, 6620.0776,\n",
       "       6614.2515, 6603.2026, 6606.111 , 6617.9346, 6633.854 , 6653.5103,\n",
       "       6666.842 , 6670.099 , 6663.2363, 6659.9097, 6660.9414, 6658.212 ,\n",
       "       6667.318 , 6689.873 , 6702.854 , 6699.6333, 6699.102 , 6699.148 ,\n",
       "       6692.77  , 6699.019 , 6719.769 , 6730.1724, 6715.2354, 6693.829 ,\n",
       "       6677.189 , 6650.9956, 6628.9033, 6639.2505, 6659.018 , 6653.168 ,\n",
       "       6614.224 , 6532.776 , 6471.7847, 6479.722 , 6538.553 , 6568.7793,\n",
       "       6562.936 , 6541.3237, 6536.618 , 6546.0474, 6560.943 , 6585.0967,\n",
       "       6586.5425, 6565.855 , 6541.8423, 6528.5796, 6527.017 , 6545.0347,\n",
       "       6574.9307, 6589.0503, 6600.3257, 6597.005 , 6578.0923, 6572.362 ,\n",
       "       6587.9976, 6607.3467, 6618.547 , 6630.3667, 6647.4243, 6646.2783,\n",
       "       6615.81  , 6562.179 , 6531.9575, 6542.7197, 6545.8945, 6530.2407,\n",
       "       6503.5664, 6470.1772, 6455.969 , 6474.9   , 6490.3726, 6471.031 ,\n",
       "       6439.723 , 6395.3545, 6359.529 , 6349.6665, 6344.33  , 6335.7485,\n",
       "       6337.1123, 6348.8945, 6378.0337, 6416.2573, 6444.469 , 6461.266 ,\n",
       "       6475.487 , 6487.506 , 6499.817 , 6516.7515, 6543.739 , 6578.759 ,\n",
       "       6582.072 , 6567.4927, 6565.3506, 6569.129 , 6549.172 , 6522.1196,\n",
       "       6510.058 , 6520.2803, 6520.2915, 6492.343 , 6468.5933, 6457.537 ,\n",
       "       6454.2593, 6445.631 , 6427.0073, 6417.894 , 6424.945 , 6432.6475,\n",
       "       6435.242 , 6422.6235, 6403.068 , 6382.6313, 6355.542 , 6331.2036,\n",
       "       6309.653 , 6319.6343, 6365.8228, 6412.544 , 6427.723 , 6442.2036,\n",
       "       6466.705 , 6481.8184, 6484.929 , 6480.4053, 6475.1196, 6484.6685,\n",
       "       6508.292 , 6532.9624, 6557.1147, 6565.8843, 6569.621 , 6587.716 ,\n",
       "       6604.8535, 6611.064 , 6605.683 , 6594.3994, 6589.0454, 6575.9307,\n",
       "       6557.777 , 6549.009 , 6553.5254, 6571.896 , 6585.8765, 6598.1216,\n",
       "       6593.1436, 6581.5854, 6576.2974, 6563.1943, 6546.4224, 6535.5205,\n",
       "       6532.778 , 6521.654 , 6475.819 , 6429.953 , 6394.404 , 6363.928 ,\n",
       "       6302.203 , 6255.852 , 6243.3184, 6269.645 , 6287.9907, 6293.814 ,\n",
       "       6280.3364, 6262.518 , 6240.476 , 6210.411 , 6189.0674, 6185.799 ,\n",
       "       6198.3267, 6218.893 , 6230.4946, 6206.5757, 6152.6577, 6092.479 ,\n",
       "       6025.87  , 5929.599 , 5830.4453, 5772.5435, 5809.7007, 5884.882 ,\n",
       "       5913.43  , 5844.62  , 5691.423 , 5513.9575, 5456.4185, 5358.125 ,\n",
       "       5153.4976, 5023.891 , 4844.7627, 4529.5156, 4259.287 , 3935.7302,\n",
       "       3850.2256, 3722.226 , 3640.1907, 4136.1943, 4567.062 , 4502.435 ,\n",
       "       4585.2124, 4603.271 , 4642.79  , 4792.7554, 4953.767 , 4976.443 ,\n",
       "       4831.719 , 4794.8394, 4786.432 , 4815.104 , 4750.19  , 4582.341 ,\n",
       "       4703.571 , 4714.4463, 4627.244 , 4645.968 , 4695.4946, 4620.3833,\n",
       "       4606.226 , 4645.1294, 4702.8345, 4826.3306, 4789.4033, 4774.3325,\n",
       "       4760.959 , 4743.6177, 4759.717 , 4714.2417, 4657.9507, 4613.738 ,\n",
       "       4595.855 , 4608.242 , 4663.4253, 4680.3706, 4765.2163, 4824.7065,\n",
       "       4919.8794, 4998.0903, 5101.0347, 5191.3574, 5225.55  , 5241.558 ,\n",
       "       5313.9087, 5291.667 , 5192.8296, 5119.5073, 5114.145 , 5132.4146,\n",
       "       5215.9824, 5254.145 , 5215.6675, 5204.0547, 5191.0645, 5169.6274,\n",
       "       5198.264 , 5178.0747, 5167.407 , 5165.1704, 5182.522 , 5197.105 ,\n",
       "       5238.1445, 5264.7983, 5285.364 , 5302.8394, 5346.8813, 5357.6284,\n",
       "       5345.9204, 5362.2915, 5379.2007, 5386.8433, 5391.3154, 5388.2524,\n",
       "       5380.403 , 5411.699 , 5426.0435, 5432.913 , 5412.9834, 5417.2476,\n",
       "       5424.429 , 5424.7095, 5408.4907, 5357.0396, 5383.652 , 5437.3364,\n",
       "       5474.185 , 5476.4116, 5490.9536, 5519.715 , 5550.721 , 5573.3677,\n",
       "       5585.3833, 5608.9727, 5616.681 , 5625.962 , 5657.971 , 5672.2046,\n",
       "       5671.9644, 5649.603 , 5610.2075, 5614.8027, 5618.587 , 5589.8003,\n",
       "       5555.536 , 5527.581 , 5483.636 , 5390.5547, 5251.6206, 5293.303 ,\n",
       "       5425.7847, 5408.812 , 5363.6704, 5335.2993, 5317.122 , 5265.845 ,\n",
       "       5198.2256, 5174.322 , 5133.3823, 5185.465 , 5189.377 , 5164.44  ,\n",
       "       5162.6567, 5221.7935, 5225.446 , 5253.5093, 5292.155 , 5302.581 ,\n",
       "       5339.8774, 5372.0605, 5411.7827, 5435.8857, 5455.0757, 5429.988 ,\n",
       "       5413.3765, 5420.1216, 5410.897 , 5407.039 , 5407.1675, 5426.8115,\n",
       "       5440.572 , 5438.007 , 5441.088 , 5482.392 , 5512.113 , 5606.0396,\n",
       "       5687.2397, 5746.9814, 5798.5986, 5813.0386, 5805.5938, 5818.472 ,\n",
       "       5851.193 , 5877.947 , 5899.5   , 5924.864 , 5954.6265, 5998.5386,\n",
       "       6032.0776, 6046.188 , 6060.9526, 6049.178 , 6032.685 , 6078.986 ,\n",
       "       6131.65  , 6159.5444, 6194.5654, 6244.6064, 6260.7065, 6270.2173,\n",
       "       6292.4175, 6330.6997, 6374.4966, 6410.401 , 6420.685 , 6420.563 ,\n",
       "       6395.0938, 6353.7925, 6354.216 , 6360.8765, 6349.2554, 6355.704 ,\n",
       "       6397.2036, 6417.3213, 6450.9736, 6529.281 , 6619.479 , 6682.6533,\n",
       "       6714.736 , 6722.4385, 6700.654 , 6682.0044, 6670.11  , 6685.5063,\n",
       "       6691.7017, 6648.4204, 6563.9023, 6483.209 , 6410.3076, 6339.2085,\n",
       "       6289.2944, 6295.056 , 6350.5503, 6398.5913, 6417.3726, 6447.894 ,\n",
       "       6484.5327, 6501.9067, 6506.261 , 6521.0093, 6548.8335, 6568.2153,\n",
       "       6554.3813, 6529.4956, 6528.5376, 6545.0117, 6563.395 , 6562.2036,\n",
       "       6568.5117, 6574.1665, 6598.759 , 6637.8354, 6646.319 , 6614.685 ,\n",
       "       6578.8325, 6557.3364, 6546.7944, 6562.095 , 6608.4907, 6631.6562,\n",
       "       6620.524 , 6607.528 , 6614.9746, 6626.0786, 6608.375 , 6562.8013,\n",
       "       6503.2017, 6457.307 , 6454.3726, 6452.804 , 6407.673 , 6339.89  ,\n",
       "       6308.4155, 6304.8247, 6309.142 , 6325.351 , 6351.724 , 6358.2173,\n",
       "       6322.666 , 6288.984 , 6306.9707, 6357.205 , 6375.354 , 6363.6655,\n",
       "       6337.8794, 6316.971 , 6307.6245, 6306.7246, 6298.113 , 6286.3354,\n",
       "       6287.767 , 6299.8433, 6304.7217, 6288.43  , 6275.4736, 6278.78  ,\n",
       "       6281.5005, 6270.513 , 6260.139 , 6244.9023, 6200.5312, 6153.5854,\n",
       "       6120.1997, 6107.3457, 6108.2954, 6114.0767, 6128.938 , 6160.342 ,\n",
       "       6194.93  , 6236.4644, 6302.4272, 6354.9014, 6369.4697, 6365.0835,\n",
       "       6347.4175, 6345.688 , 6373.187 , 6398.5923, 6394.4097, 6384.8306,\n",
       "       6372.9956, 6358.734 , 6332.792 , 6319.791 , 6338.51  , 6358.762 ,\n",
       "       6343.399 , 6321.982 , 6296.9727, 6276.02  , 6284.9473, 6306.062 ,\n",
       "       6321.897 , 6327.9834, 6336.0947, 6348.473 , 6351.776 , 6353.919 ,\n",
       "       6359.3813, 6347.19  , 6324.548 , 6324.9536, 6349.032 , 6353.928 ,\n",
       "       6358.6333, 6389.229 , 6413.0493, 6413.9575, 6405.8022, 6403.461 ,\n",
       "       6407.8726, 6407.013 , 6405.7007, 6422.2344, 6452.069 , 6481.139 ,\n",
       "       6492.194 , 6464.1636, 6426.2505, 6417.0806, 6424.5327, 6414.6494,\n",
       "       6390.805 , 6357.5933, 6340.5864, 6364.8145, 6393.2964, 6397.7407,\n",
       "       6384.219 , 6377.3115, 6397.855 , 6426.8916, 6419.5693, 6403.088 ,\n",
       "       6404.153 , 6415.226 , 6409.8174, 6379.5234, 6361.375 , 6371.775 ,\n",
       "       6390.5894, 6404.9478, 6415.355 , 6412.9927, 6409.3784, 6392.8984,\n",
       "       6379.9834, 6389.7466, 6421.0923, 6435.692 , 6432.4824, 6432.0796,\n",
       "       6457.179 , 6507.456 , 6552.5894, 6585.159 , 6623.0933, 6666.488 ,\n",
       "       6713.4688, 6750.011 , 6770.8613, 6793.833 , 6833.226 , 6891.1987,\n",
       "       6931.162 , 6952.8706, 6958.659 , 6949.6265, 6942.348 , 6940.0947,\n",
       "       6943.762 , 6922.062 , 6881.6104, 6869.028 , 6867.307 , 6844.5884,\n",
       "       6842.0854, 6872.417 , 6898.8384, 6920.1953, 6953.113 , 6978.227 ,\n",
       "       6989.806 , 6979.2886, 6953.8203, 6945.0557, 6958.0327, 6972.6133,\n",
       "       6993.184 , 7018.873 , 7013.7144, 6999.503 , 6987.0425, 6937.9478,\n",
       "       6890.076 , 6864.2905, 6848.3325, 6847.4233, 6857.029 , 6865.563 ,\n",
       "       6885.7725, 6910.1772, 6928.563 , 6944.6743, 6955.3096, 6947.7817,\n",
       "       6931.313 , 6912.518 , 6890.6006, 6865.4346, 6854.061 , 6850.0054,\n",
       "       6853.159 , 6861.97  , 6876.6846, 6891.669 , 6902.6445, 6912.751 ,\n",
       "       6940.5737, 6979.3354, 6988.4966, 6978.688 , 6985.2847, 6999.804 ,\n",
       "       6986.735 , 6968.193 , 6964.803 , 6972.602 , 6965.445 , 6934.975 ,\n",
       "       6914.126 , 6929.6274, 6960.7964, 6961.3374, 6916.9097, 6891.462 ,\n",
       "       6905.5864, 6931.6323, 6956.9795, 6987.403 , 7011.4165, 7041.446 ,\n",
       "       7089.5444, 7127.804 , 7149.0366, 7150.3813, 7134.6206, 7101.9736,\n",
       "       7106.4067, 7146.0444, 7176.111 , 7196.5947, 7222.402 , 7223.5522,\n",
       "       7223.321 , 7213.9663, 7221.5146, 7258.7896, 7269.3413, 7252.128 ,\n",
       "       7235.9585, 7202.7153, 7202.923 , 7225.552 , 7256.646 , 7283.7466,\n",
       "       7305.2993, 7324.6787, 7337.9185, 7329.1665, 7322.107 , 7339.939 ,\n",
       "       7365.9136, 7384.7905, 7392.2764, 7400.4453, 7407.943 , 7425.854 ,\n",
       "       7448.4917, 7470.142 , 7490.601 , 7517.7153, 7530.326 , 7543.8384,\n",
       "       7600.0493, 7654.0386, 7672.9775, 7683.348 , 7698.41  , 7706.198 ,\n",
       "       7694.4194, 7680.4995, 7689.4004, 7684.0674, 7650.546 , 7637.027 ,\n",
       "       7634.7754, 7590.1343, 7420.1387, 7203.4126, 7100.966 , 7024.6626,\n",
       "       6942.612 , 6954.2334, 7035.268 , 7115.1445, 7185.229 , 7227.579 ,\n",
       "       7238.022 , 7268.6504, 7335.1724, 7416.482 , 7486.87  , 7548.739 ,\n",
       "       7579.191 , 7564.352 , 7542.8335, 7567.9263, 7574.5137, 7507.9907,\n",
       "       7406.9507, 7371.6436, 7394.4175, 7395.27  , 7358.3887, 7319.9453,\n",
       "       7353.6724, 7375.3677, 7369.7524, 7379.9917, 7389.0786, 7366.367 ,\n",
       "       7324.7627, 7269.6016, 7177.778 , 7059.5044, 6995.5044, 6979.4233,\n",
       "       6977.8237, 7003.8813, 7027.557 , 7026.1313, 6997.4937, 6979.4937,\n",
       "       6977.058 , 6987.9956, 7031.9683, 7114.803 , 7183.0884, 7209.3706,\n",
       "       7213.1636, 7217.058 , 7238.736 , 7279.188 , 7312.537 , 7329.104 ,\n",
       "       7342.5566, 7377.322 , 7421.9126, 7452.0938, 7471.581 , 7485.325 ,\n",
       "       7497.027 , 7513.647 , 7538.127 , 7527.277 , 7527.8716, 7559.66  ,\n",
       "       7584.1816, 7567.647 , 7553.946 , 7582.555 , 7592.927 , 7571.    ,\n",
       "       7547.218 , 7548.127 , 7574.8867, 7578.3716, 7598.614 , 7629.2437,\n",
       "       7659.3735, 7662.926 , 7655.4526, 7678.6426, 7704.6855, 7736.2153,\n",
       "       7758.1274, 7745.9746, 7700.0933, 7636.692 , 7619.7773, 7620.475 ,\n",
       "       7611.4243, 7604.074 , 7562.107 , 7517.184 , 7489.642 , 7452.6064,\n",
       "       7415.0723, 7404.2017, 7428.7075, 7457.2695, 7461.181 , 7427.2485,\n",
       "       7374.4097, 7326.1113, 7279.853 , 7241.185 , 7195.52  , 7167.3765,\n",
       "       7167.9263, 7207.596 , 7272.104 , 7354.1826, 7412.268 , 7432.8267,\n",
       "       7437.7812, 7447.803 , 7456.71  , 7460.561 , 7450.721 , 7419.526 ,\n",
       "       7398.8345, 7410.582 , 7438.3066, 7449.474 , 7439.016 , 7410.978 ,\n",
       "       7408.55  , 7416.7817, 7409.232 , 7394.83  , 7404.1313, 7432.311 ,\n",
       "       7452.574 , 7443.7065, 7436.5513, 7444.1133, 7442.1772, 7416.727 ,\n",
       "       7403.4443, 7411.194 , 7413.6416, 7391.347 , 7351.3013, 7284.6694,\n",
       "       7193.5063, 7124.063 , 7073.3657, 7059.651 , 7082.6333, 7112.1377,\n",
       "       7107.5015, 7099.5376, 7103.0396, 7104.2026, 7115.447 , 7137.8384,\n",
       "       7147.2236, 7164.349 , 7203.8203, 7214.903 , 7197.681 , 7184.6255,\n",
       "       7188.6763, 7187.4663, 7157.353 , 7065.484 , 6994.936 , 6975.3228,\n",
       "       6950.541 , 6919.739 , 6918.904 , 6944.5923, 6986.028 , 7038.2466,\n",
       "       7084.9727, 7122.543 , 7167.2505, 7191.9375, 7188.9937, 7191.4937,\n",
       "       7212.306 , 7217.3286, 7200.772 , 7197.18  , 7217.113 , 7238.0825,\n",
       "       7243.9697, 7251.83  , 7270.186 , 7261.6743, 7235.915 , 7232.1167,\n",
       "       7257.0933, 7262.9517, 7249.904 , 7237.959 , 7230.103 , 7215.3228,\n",
       "       7182.445 , 7164.6396, 7175.775 , 7187.374 , 7186.7417, 7184.7944,\n",
       "       7182.7485, 7166.646 , 7141.494 , 7113.351 , 7098.0977, 7100.6323,\n",
       "       7099.0806, 7078.8115, 7023.3677, 6960.358 , 6921.9272, 6927.139 ,\n",
       "       6948.2876, 6979.336 , 7024.7544, 7053.4155, 7074.043 , 7114.0366,\n",
       "       7143.1704, 7144.7427, 7146.941 , 7154.214 , 7149.85  , 7132.775 ,\n",
       "       7111.0806, 7110.2524, 7119.925 , 7122.815 , 7126.825 , 7133.3384,\n",
       "       7152.6304, 7202.0947, 7251.1914, 7261.129 , 7222.7305, 7172.8433,\n",
       "       7149.894 , 7128.195 , 7107.097 , 7098.985 , 7105.188 ],\n",
       "      dtype=float32)"
      ]
     },
     "execution_count": 688,
     "metadata": {},
     "output_type": "execute_result"
    }
   ],
   "source": [
    "y_pred.squeeze()"
   ]
  },
  {
   "cell_type": "code",
   "execution_count": 689,
   "metadata": {},
   "outputs": [
    {
     "data": {
      "text/plain": [
       "Date\n",
       "2019-04-30    6437.975098\n",
       "2019-05-09    6242.180176\n",
       "2019-05-10    6203.103027\n",
       "2019-05-13    6225.395020\n",
       "2019-05-14    6081.401855\n",
       "                 ...     \n",
       "2023-05-10    6780.400879\n",
       "2023-05-11    6811.904785\n",
       "2023-05-12    6755.937988\n",
       "2023-05-15    6708.463867\n",
       "2023-05-16    6711.740234\n",
       "Name: Open(t), Length: 977, dtype: float64"
      ]
     },
     "execution_count": 689,
     "metadata": {},
     "output_type": "execute_result"
    }
   ],
   "source": [
    "train_data['Open(t)']"
   ]
  },
  {
   "cell_type": "code",
   "execution_count": 690,
   "metadata": {},
   "outputs": [
    {
     "name": "stdout",
     "output_type": "stream",
     "text": [
      "MSE: 112873.92649904647\n",
      "RMSE: 335.9671509225961\n"
     ]
    }
   ],
   "source": [
    "mse = np.mean((y_pred.squeeze() - train_data['Open(t)'])**2)\n",
    "\n",
    "# Menghitung Root Mean Squared Error (RMSE)\n",
    "rmse = np.sqrt(mse)\n",
    "\n",
    "print(\"MSE:\", mse)\n",
    "print(\"RMSE:\", rmse)"
   ]
  },
  {
   "cell_type": "code",
   "execution_count": 691,
   "metadata": {},
   "outputs": [
    {
     "data": {
      "image/png": "[encoded data removed]",
      "text/plain": [
       "<Figure size 1000x600 with 1 Axes>"
      ]
     },
     "metadata": {},
     "output_type": "display_data"
    }
   ],
   "source": [
    "import matplotlib.pyplot as plt\n",
    "\n",
    "# Plot hasil prediksi (y_pred) dan data aktual (train_data['Open(t)'])\n",
    "plt.figure(figsize=(10, 6))\n",
    "plt.plot(train_data.index, y_pred.squeeze(), label='Prediksi (y_pred)', color='red')\n",
    "plt.plot(train_data.index, train_data['Open(t)'], label='Data Aktual', color='blue')\n",
    "plt.xlabel('Tanggal')\n",
    "plt.ylabel('Nilai Open')\n",
    "plt.title('Prediksi vs Data Aktual')\n",
    "plt.legend()\n",
    "plt.show()\n"
   ]
  },
  {
   "cell_type": "code",
   "execution_count": 692,
   "metadata": {},
   "outputs": [
    {
     "name": "stdout",
     "output_type": "stream",
     "text": [
      "7/7 [==============================] - 0s 2ms/step\n"
     ]
    }
   ],
   "source": [
    "y_val_pred = model_lstm.predict(X_val)"
   ]
  },
  {
   "cell_type": "code",
   "execution_count": 693,
   "metadata": {},
   "outputs": [
    {
     "data": {
      "text/plain": [
       "array([4860.0254, 4664.48  , 4402.0664, 4274.3354, 4169.711 , 4097.4883,\n",
       "       4251.2144, 4447.2954, 4537.7183, 4507.3936, 4351.055 , 4163.0073,\n",
       "       4015.7058, 3834.8713, 3613.9412, 3658.4575, 3635.0852, 3588.2527,\n",
       "       3892.8208, 4178.562 , 4342.8687, 4392.9204, 4301.5815, 4272.637 ,\n",
       "       4237.304 , 4148.932 , 3988.5093, 4101.727 , 3998.9526, 3821.2332,\n",
       "       3916.6917, 4005.0063, 4171.488 , 4226.8086, 4362.4375, 4583.215 ,\n",
       "       4532.8315, 4594.0273, 4854.0527, 5022.7847, 5089.7153, 5252.7886,\n",
       "       5313.2466, 5224.941 , 5300.764 , 5398.108 , 5504.0796, 5563.2515,\n",
       "       5584.159 , 5516.6714, 5463.6055, 5495.2485, 5422.9624, 5321.313 ,\n",
       "       5381.5376, 5348.8164, 5365.9507, 5371.396 , 5373.667 , 5419.2363,\n",
       "       5415.682 , 5447.887 , 5481.34  , 5417.9917, 5365.0674, 5391.1597,\n",
       "       5501.3003, 5546.221 , 5508.7896, 5513.1987, 5620.3345, 5718.006 ,\n",
       "       5765.124 , 5765.32  , 5824.8364, 5862.526 , 5849.3   , 5797.313 ,\n",
       "       5703.649 , 5641.627 , 5666.225 , 5665.1553, 5670.9507, 5737.9766,\n",
       "       5779.211 , 5771.8013, 5841.7983, 5914.3955, 5902.216 , 5889.374 ,\n",
       "       5803.012 , 5682.562 , 5661.653 , 5681.3804, 5671.1035, 5592.303 ,\n",
       "       5446.178 , 5422.432 , 5451.2676, 5506.8013, 5585.8994, 5628.2153,\n",
       "       5629.3945, 5585.947 , 5540.656 , 5542.6553, 5467.3926, 5243.1567,\n",
       "       5100.4546, 4844.128 , 4885.916 , 4990.0674, 4634.0923, 4587.382 ,\n",
       "       4524.7173, 4504.5073, 4245.895 , 4567.148 , 4936.093 , 5187.5913,\n",
       "       5173.222 , 5034.778 , 5113.951 , 5114.179 , 5235.0176, 5407.2837,\n",
       "       5656.01  , 5737.9834, 5783.7646, 5793.1235, 5748.8203, 5719.2554,\n",
       "       5886.6333, 5986.86  , 6025.473 , 6077.386 , 6127.6177, 6184.8545,\n",
       "       6219.0063, 6269.2134, 6296.6343, 6346.974 , 6397.1304, 6375.2505,\n",
       "       6329.3384, 6360.1826, 6449.198 , 6566.4663, 6542.954 , 6559.4556,\n",
       "       6677.5474, 6767.765 , 6834.512 , 6929.2764, 7026.86  , 7074.7974,\n",
       "       7106.942 , 7158.5093, 7259.8047, 7344.35  , 7234.4375, 6959.221 ,\n",
       "       6814.2896, 6818.013 , 6862.1865, 6847.7617, 6835.3535, 6797.4214,\n",
       "       6811.497 , 6825.791 , 6833.6855, 6838.473 , 6788.2793, 6665.261 ,\n",
       "       6539.5767, 6511.9097, 6603.168 , 6698.9004, 6753.4155, 6778.95  ,\n",
       "       6797.986 , 6851.022 , 6920.357 , 7003.851 , 7048.108 , 7136.2803,\n",
       "       7265.4966, 7249.977 , 7266.516 , 7309.8125, 7281.148 , 7175.4917,\n",
       "       7069.9346, 7059.659 , 7134.096 , 7191.844 , 7172.4087, 7110.237 ,\n",
       "       7068.095 , 7158.0806, 7368.9917, 7572.4106, 7683.4995, 7698.2915,\n",
       "       7519.865 , 7313.4146, 7261.1724, 7296.147 , 7314.027 , 7362.646 ,\n",
       "       7361.313 , 7370.483 , 7250.1245, 7081.5444, 6860.948 , 6747.4805,\n",
       "       6705.071 , 6741.9355, 6771.845 , 6657.9634, 6493.4907],\n",
       "      dtype=float32)"
      ]
     },
     "execution_count": 693,
     "metadata": {},
     "output_type": "execute_result"
    }
   ],
   "source": [
    "y_val_pred.squeeze()"
   ]
  },
  {
   "cell_type": "code",
   "execution_count": 694,
   "metadata": {},
   "outputs": [
    {
     "data": {
      "text/plain": [
       "Date\n",
       "2023-05-17    6676.423828\n",
       "2023-05-19    6663.113770\n",
       "2023-05-22    6700.561035\n",
       "2023-05-23    6729.646973\n",
       "2023-05-24    6736.684082\n",
       "                 ...     \n",
       "2024-04-17    7199.830078\n",
       "2024-04-18    7151.737793\n",
       "2024-04-19    7131.455078\n",
       "2024-04-22    7099.517090\n",
       "2024-04-23    7102.903809\n",
       "Name: Open(t), Length: 221, dtype: float64"
      ]
     },
     "execution_count": 694,
     "metadata": {},
     "output_type": "execute_result"
    }
   ],
   "source": [
    "validation_data['Open(t)']"
   ]
  },
  {
   "cell_type": "code",
   "execution_count": 695,
   "metadata": {},
   "outputs": [
    {
     "data": {
      "image/png": "[encoded data removed]",
      "text/plain": [
       "<Figure size 1000x600 with 1 Axes>"
      ]
     },
     "metadata": {},
     "output_type": "display_data"
    }
   ],
   "source": [
    "import matplotlib.pyplot as plt\n",
    "\n",
    "# Plot hasil prediksi (y_pred) dan data aktual (train_data['Open(t)'])\n",
    "plt.figure(figsize=(10, 6))\n",
    "plt.plot(validation_data.index, y_val_pred.squeeze(), label='Prediksi (y_pred)', color='red')\n",
    "plt.plot(validation_data.index, validation_data['Open(t)'], label='Data Aktual', color='blue')\n",
    "plt.xlabel('Tanggal')\n",
    "plt.ylabel('Nilai Open')\n",
    "plt.title('Prediksi vs Data Aktual')\n",
    "plt.legend()\n",
    "plt.show()\n"
   ]
  },
  {
   "cell_type": "code",
   "execution_count": 696,
   "metadata": {},
   "outputs": [
    {
     "name": "stdout",
     "output_type": "stream",
     "text": [
      "MSE: 2166742.4029045827\n",
      "RMSE: 1471.9858704840149\n"
     ]
    }
   ],
   "source": [
    "mse = np.mean((y_val_pred.squeeze() - validation_data['Open(t)'])**2)\n",
    "\n",
    "# Menghitung Root Mean Squared Error (RMSE)\n",
    "rmse = np.sqrt(mse)\n",
    "\n",
    "print(\"MSE:\", mse)\n",
    "print(\"RMSE:\", rmse)"
   ]
  },
  {
   "cell_type": "code",
   "execution_count": null,
   "metadata": {},
   "outputs": [],
   "source": []
  },
  {
   "cell_type": "code",
   "execution_count": null,
   "metadata": {},
   "outputs": [],
   "source": []
  }
 ],
 "metadata": {
  "kernelspec": {
   "display_name": "base",
   "language": "python",
   "name": "python3"
  },
  "language_info": {
   "codemirror_mode": {
    "name": "ipython",
    "version": 3
   },
   "file_extension": ".py",
   "mimetype": "text/x-python",
   "name": "python",
   "nbconvert_exporter": "python",
   "pygments_lexer": "ipython3",
   "version": "3.11.5"
  }
 },
 "nbformat": 4,
 "nbformat_minor": 2
}
